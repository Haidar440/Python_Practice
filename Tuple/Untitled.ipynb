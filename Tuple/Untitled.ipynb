{
 "cells": [
  {
   "cell_type": "code",
   "execution_count": 1,
   "id": "541ffe07-27e9-437a-8bfe-0f119e8b1c09",
   "metadata": {},
   "outputs": [
    {
     "name": "stdout",
     "output_type": "stream",
     "text": [
      "()\n"
     ]
    }
   ],
   "source": [
    "empty_tuple = ()\n",
    "print(empty_tuple)"
   ]
  },
  {
   "cell_type": "code",
   "execution_count": 2,
   "id": "daaed9d4-ea8b-42b7-a2e1-bbd15b165d9b",
   "metadata": {},
   "outputs": [
    {
     "name": "stdout",
     "output_type": "stream",
     "text": [
      "(45, 56, 67)\n"
     ]
    }
   ],
   "source": [
    "value_tuple = 45,56,67\n",
    "print(value_tuple)"
   ]
  },
  {
   "cell_type": "code",
   "execution_count": 4,
   "id": "7b702346-2f1d-45a1-a832-916c2d48eb34",
   "metadata": {},
   "outputs": [
    {
     "data": {
      "text/plain": [
       "(56, 'Hello', True)"
      ]
     },
     "execution_count": 4,
     "metadata": {},
     "output_type": "execute_result"
    }
   ],
   "source": [
    "tuple_mix_data = (56,\"Hello\",True)\n",
    "tuple_mix_data"
   ]
  },
  {
   "cell_type": "code",
   "execution_count": 6,
   "id": "1bbf8d48-f7d9-4376-815a-31fba04d2855",
   "metadata": {},
   "outputs": [
    {
     "name": "stdout",
     "output_type": "stream",
     "text": [
      "('hello',)\n"
     ]
    }
   ],
   "source": [
    "tuple_1 = (\"hello\",)\n",
    "print(tuple_1)"
   ]
  },
  {
   "cell_type": "code",
   "execution_count": 1,
   "id": "04f3d77b-ec06-4446-9995-e8ea57879e07",
   "metadata": {},
   "outputs": [
    {
     "ename": "TypeError",
     "evalue": "'tuple' object does not support item assignment",
     "output_type": "error",
     "traceback": [
      "\u001b[1;31m---------------------------------------------------------------------------\u001b[0m",
      "\u001b[1;31mTypeError\u001b[0m                                 Traceback (most recent call last)",
      "Cell \u001b[1;32mIn[1], line 2\u001b[0m\n\u001b[0;32m      1\u001b[0m value_tuple \u001b[38;5;241m=\u001b[39m (\u001b[38;5;241m34\u001b[39m,\u001b[38;5;241m56\u001b[39m,\u001b[38;5;124m\"\u001b[39m\u001b[38;5;124mhello\u001b[39m\u001b[38;5;124m\"\u001b[39m)\n\u001b[1;32m----> 2\u001b[0m \u001b[43mvalue_tuple\u001b[49m\u001b[43m[\u001b[49m\u001b[38;5;241;43m1\u001b[39;49m\u001b[43m]\u001b[49m \u001b[38;5;241m=\u001b[39m \u001b[38;5;241m7\u001b[39m\n\u001b[0;32m      3\u001b[0m value_tuple\n",
      "\u001b[1;31mTypeError\u001b[0m: 'tuple' object does not support item assignment"
     ]
    }
   ],
   "source": [
    "value_tuple = (34,56,\"hello\")\n",
    "value_tuple[1] = 7\n",
    "value_tuple"
   ]
  },
  {
   "cell_type": "code",
   "execution_count": 12,
   "id": "3f69b2c0-998f-4e09-9d2d-e55f26fb012d",
   "metadata": {},
   "outputs": [
    {
     "data": {
      "text/plain": [
       "(34, 56, 'hello', 'haidar', 67, 78)"
      ]
     },
     "execution_count": 12,
     "metadata": {},
     "output_type": "execute_result"
    }
   ],
   "source": [
    "value_tuple1 = (34,56,\"hello\")\n",
    "value_tuple2 = \"haidar\",67,78\n",
    "value_tuple1 = value_tuple1+value_tuple2\n",
    "value_tuple1"
   ]
  },
  {
   "cell_type": "code",
   "execution_count": 13,
   "id": "8b04227d-eb23-4439-a12b-286064542d68",
   "metadata": {},
   "outputs": [
    {
     "data": {
      "text/plain": [
       "((34, 56, 'hello'), ('haidar', 67, 78))"
      ]
     },
     "execution_count": 13,
     "metadata": {},
     "output_type": "execute_result"
    }
   ],
   "source": [
    "value_tuple1 = (34,56,\"hello\")\n",
    "value_tuple2 = \"haidar\",67,78\n",
    "value_tuple3 = value_tuple1,value_tuple2\n",
    "value_tuple3"
   ]
  },
  {
   "cell_type": "code",
   "execution_count": 14,
   "id": "bbd3925e-dcf0-43bc-9c67-93710a693a3d",
   "metadata": {},
   "outputs": [
    {
     "data": {
      "text/plain": [
       "(26, 45, 'hello', 26, 45, 'hello')"
      ]
     },
     "execution_count": 14,
     "metadata": {},
     "output_type": "execute_result"
    }
   ],
   "source": [
    "t1 = (26,45,\"hello\") * 2\n",
    "t1"
   ]
  },
  {
   "cell_type": "code",
   "execution_count": 7,
   "id": "8639cf65-4fce-4b1d-a25d-f58d79d18148",
   "metadata": {},
   "outputs": [
    {
     "ename": "TypeError",
     "evalue": "'tuple' object doesn't support item deletion",
     "output_type": "error",
     "traceback": [
      "\u001b[1;31m---------------------------------------------------------------------------\u001b[0m",
      "\u001b[1;31mTypeError\u001b[0m                                 Traceback (most recent call last)",
      "Cell \u001b[1;32mIn[7], line 1\u001b[0m\n\u001b[1;32m----> 1\u001b[0m \u001b[38;5;28;01mdel\u001b[39;00m(\u001b[43mt1\u001b[49m\u001b[43m[\u001b[49m\u001b[38;5;241;43m1\u001b[39;49m\u001b[43m]\u001b[49m)\n",
      "\u001b[1;31mTypeError\u001b[0m: 'tuple' object doesn't support item deletion"
     ]
    }
   ],
   "source": [
    "del(t1[1])\n"
   ]
  },
  {
   "cell_type": "code",
   "execution_count": 3,
   "id": "f32ec254-c6ff-4489-a723-4d30de21f8e0",
   "metadata": {},
   "outputs": [
    {
     "name": "stdout",
     "output_type": "stream",
     "text": [
      "False\n",
      "True\n"
     ]
    }
   ],
   "source": [
    "#built in Function\n",
    "\n",
    "tuple  = (0,1)\n",
    "print(all(tuple))\n",
    "print(any(tuple))"
   ]
  },
  {
   "cell_type": "code",
   "execution_count": 6,
   "id": "a2f03b4b-76c1-4fd4-99d0-f2e10d067ff3",
   "metadata": {},
   "outputs": [
    {
     "name": "stdout",
     "output_type": "stream",
     "text": [
      "False\n",
      "False\n"
     ]
    }
   ],
   "source": [
    "t1 = (0,)\n",
    "print(any(t1))\n",
    "t2 = ()\n",
    "print(any(t2))"
   ]
  },
  {
   "cell_type": "code",
   "execution_count": 4,
   "id": "e1b0a420-f831-40d8-84f6-ee38de2d2a45",
   "metadata": {},
   "outputs": [
    {
     "data": {
      "text/plain": [
       "((26, 45, 'hello'), (7, 5.6, 'python'))"
      ]
     },
     "execution_count": 4,
     "metadata": {},
     "output_type": "execute_result"
    }
   ],
   "source": [
    "t1 =  (26,45,\"hello\")\n",
    "t2 = (7,5.6,\"python\")\n",
    "\n",
    "t3 = t1,t2\n",
    "t3"
   ]
  },
  {
   "cell_type": "code",
   "execution_count": 6,
   "id": "d46878f2-2d3f-4d49-9f06-89b9a2c96c68",
   "metadata": {},
   "outputs": [
    {
     "data": {
      "text/plain": [
       "(26, 45, 'hello', 26, 45, 'hello')"
      ]
     },
     "execution_count": 6,
     "metadata": {},
     "output_type": "execute_result"
    }
   ],
   "source": [
    "t1*2"
   ]
  },
  {
   "cell_type": "code",
   "execution_count": null,
   "id": "54e0a123-c6f5-40be-985a-311d60343821",
   "metadata": {},
   "outputs": [],
   "source": []
  }
 ],
 "metadata": {
  "kernelspec": {
   "display_name": "Python 3 (ipykernel)",
   "language": "python",
   "name": "python3"
  },
  "language_info": {
   "codemirror_mode": {
    "name": "ipython",
    "version": 3
   },
   "file_extension": ".py",
   "mimetype": "text/x-python",
   "name": "python",
   "nbconvert_exporter": "python",
   "pygments_lexer": "ipython3",
   "version": "3.11.0"
  }
 },
 "nbformat": 4,
 "nbformat_minor": 5
}
