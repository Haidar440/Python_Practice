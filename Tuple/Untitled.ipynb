{
 "cells": [
  {
   "cell_type": "code",
   "execution_count": 1,
   "id": "541ffe07-27e9-437a-8bfe-0f119e8b1c09",
   "metadata": {},
   "outputs": [],
   "source": [
    "users = [\n",
    "    {\"id\": 1, \"name\": \"Alice\"},\n",
    "    {\"id\": 2, \"name\": \"Bob\"},\n",
    "    {\"id\": 3, \"name\": \"Charlie\"}\n",
    "]"
   ]
  },
  {
   "cell_type": "code",
   "execution_count": 36,
   "id": "daaed9d4-ea8b-42b7-a2e1-bbd15b165d9b",
   "metadata": {},
   "outputs": [
    {
     "name": "stdout",
     "output_type": "stream",
     "text": [
      "{1: [], 2: [], 3: []}\n"
     ]
    }
   ],
   "source": [
    "x = {}\n",
    "for user in users:\n",
    "    x[user[\"id\"]]= []\n",
    "\n",
    "print(x)\n",
    "\n",
    "x = { user[\"id\"]: [] for user in users }"
   ]
  },
  {
   "cell_type": "code",
   "execution_count": 26,
   "id": "7b702346-2f1d-45a1-a832-916c2d48eb34",
   "metadata": {},
   "outputs": [
    {
     "name": "stdout",
     "output_type": "stream",
     "text": [
      "{1: [], 2: [], 3: [], 4: [], 5: []}\n"
     ]
    }
   ],
   "source": [
    "x = {}\n",
    "for i in range(1, 6):\n",
    "    x[i] = []\n",
    "\n",
    "print(x)"
   ]
  }
 ],
 "metadata": {
  "kernelspec": {
   "display_name": "Python 3 (ipykernel)",
   "language": "python",
   "name": "python3"
  },
  "language_info": {
   "codemirror_mode": {
    "name": "ipython",
    "version": 3
   },
   "file_extension": ".py",
   "mimetype": "text/x-python",
   "name": "python",
   "nbconvert_exporter": "python",
   "pygments_lexer": "ipython3",
   "version": "3.11.0"
  }
 },
 "nbformat": 4,
 "nbformat_minor": 5
}
