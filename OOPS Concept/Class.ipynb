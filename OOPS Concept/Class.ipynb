{
 "cells": [
  {
   "cell_type": "code",
   "execution_count": 3,
   "id": "fb2a99c2-544d-4cea-a155-26a15b5012cc",
   "metadata": {},
   "outputs": [
    {
     "name": "stdout",
     "output_type": "stream",
     "text": [
      "Hii Welcome\n"
     ]
    }
   ],
   "source": [
    "class Python:\n",
    "    def fun(self):\n",
    "        print(\"Hii\",\"Welcome\")\n",
    "pyth = Python()        \n",
    "pyth.fun()"
   ]
  },
  {
   "cell_type": "code",
   "execution_count": 14,
   "id": "fc677dc6-fadc-4fff-95bd-c75f901b75e1",
   "metadata": {},
   "outputs": [
    {
     "name": "stdout",
     "output_type": "stream",
     "text": [
      "Name:  AUDI Id:  12345678909876\n",
      "1\n",
      "Name:  AUDI Id:  12345678909876\n",
      "2\n"
     ]
    }
   ],
   "source": [
    "class Car:\n",
    "    car = 0\n",
    "    def __init__(self,name,id):\n",
    "        self.name = name\n",
    "        self.id = id\n",
    "        Car.car+=1\n",
    "    def printCarData(self):\n",
    "        print(\"Name: \",self.name,\"Id: \",self.id)\n",
    "        print(Car.car)\n",
    "\n",
    "c = Car(\"AUDI\",12345678909876)\n",
    "c.printCarData()\n",
    "c = Car(\"AUDI\",12345678909876)\n",
    "c.printCarData()"
   ]
  },
  {
   "cell_type": "code",
   "execution_count": 57,
   "id": "c6345497-5c1c-4d79-a4c5-e63a0764e126",
   "metadata": {},
   "outputs": [
    {
     "name": "stdout",
     "output_type": "stream",
     "text": [
      "HAIDAR\n",
      "21\n",
      "45000\n",
      "1\n",
      "Ali\n",
      "10\n",
      "345000\n",
      "2\n"
     ]
    }
   ],
   "source": [
    "class Employee:\n",
    "    emp = 0\n",
    "    def set_data(self,name,age,salary):\n",
    "        self.name = name\n",
    "        self.age = age\n",
    "        self.salary = salary\n",
    "        Employee.emp+=1\n",
    "\n",
    "    def display_data(self):\n",
    "        print(self.name)\n",
    "        print(self.age)\n",
    "        print(self.salary)\n",
    "        print(self.emp)\n",
    "\n",
    "emp = Employee()\n",
    "emp.set_data(\"HAIDAR\",21,45000)\n",
    "emp.display_data()\n",
    "emp1 = Employee()\n",
    "emp1.set_data(\"Ali\",10,345000)\n",
    "emp1.display_data()"
   ]
  },
  {
   "cell_type": "code",
   "execution_count": 28,
   "id": "7d4e03ff-fe65-441b-b74b-4692d7973f76",
   "metadata": {},
   "outputs": [
    {
     "name": "stdout",
     "output_type": "stream",
     "text": [
      "Haidar\n",
      "10\n",
      "2220\n"
     ]
    }
   ],
   "source": [
    "class Employee:\n",
    "    def __init__(self,n,a,s):\n",
    "        self.name =  n\n",
    "        self.age  = a\n",
    "        self.salary = s\n",
    "    def display_data(self):\n",
    "        print(self.name)\n",
    "        print(self.age)\n",
    "        print(self.salary)\n",
    "\n",
    "emp2 = Employee(\"Haidar\",10,2220)\n",
    "emp2.display_data()"
   ]
  },
  {
   "cell_type": "code",
   "execution_count": 41,
   "id": "1443016a-ff7f-40d7-942e-e7784c16ebd0",
   "metadata": {},
   "outputs": [
    {
     "name": "stdout",
     "output_type": "stream",
     "text": [
      "123\n"
     ]
    },
    {
     "data": {
      "text/plain": [
       "123"
      ]
     },
     "execution_count": 41,
     "metadata": {},
     "output_type": "execute_result"
    }
   ],
   "source": [
    "class Number:\n",
    "    # def __init__(self):\n",
    "    #     self.number = 0\n",
    "    def get_data(self):\n",
    "        print(self.number)\n",
    "    def set_data(self,num):\n",
    "        if num>0:\n",
    "            self.number = num\n",
    "        else:\n",
    "            print(\"Enter a Poasitive Number\")\n",
    "        \n",
    "n1 = Number()        \n",
    "n1.set_data(123)\n",
    "n1.get_data()\n",
    "n1.number"
   ]
  },
  {
   "cell_type": "code",
   "execution_count": 46,
   "id": "fb59ae46-0e7b-46f3-a1da-9a8088bb1c38",
   "metadata": {},
   "outputs": [
    {
     "name": "stdout",
     "output_type": "stream",
     "text": [
      "Hello\n"
     ]
    },
    {
     "data": {
      "text/plain": [
       "43"
      ]
     },
     "execution_count": 46,
     "metadata": {},
     "output_type": "execute_result"
    }
   ],
   "source": [
    "class Test:\n",
    "    __x = 10\n",
    "    def __init__(self):\n",
    "        print(\"Hello\")\n",
    "        self.x = 43\n",
    "test =  Test()\n",
    "test.x"
   ]
  },
  {
   "cell_type": "code",
   "execution_count": 54,
   "id": "243c82a7-5e0d-480d-9741-e64c90383400",
   "metadata": {},
   "outputs": [
    {
     "name": "stdout",
     "output_type": "stream",
     "text": [
      "Total Cars:  3\n"
     ]
    }
   ],
   "source": [
    "class Car:\n",
    "    car = 0\n",
    "    def __init__(self,name,id1):\n",
    "        self.name = name\n",
    "        self.id = id1\n",
    "        Car.car+=1\n",
    "    def printCarData(self):\n",
    "        print(\"Name: \",self.name)\n",
    "        print(\"ID: \",self.id)\n",
    "\n",
    "c = Car(\"AUDI\",12345678909876)\n",
    "c1 =Car(\"BENZ\",234562)\n",
    "c2 = Car(\"BMW\",400000)\n",
    "print(\"Total Cars: \",Car.car)\n",
    "\n"
   ]
  },
  {
   "cell_type": "code",
   "execution_count": 65,
   "id": "e3fea364-e250-46ce-9298-03314014da4b",
   "metadata": {},
   "outputs": [
    {
     "name": "stdout",
     "output_type": "stream",
     "text": [
      "Bike\n"
     ]
    }
   ],
   "source": [
    "class Test:\n",
    "    def __init__(self):\n",
    "        self.variable = \"Car\"\n",
    "        self.Change(self.variable)\n",
    "    def Change(self,var):\n",
    "        self.variable = \"Bike\"\n",
    "\n",
    "obj = Test()\n",
    "print(obj.variable)"
   ]
  },
  {
   "cell_type": "code",
   "execution_count": null,
   "id": "61a5d2ae-3571-4395-8656-bd934eaca235",
   "metadata": {},
   "outputs": [],
   "source": [
    "class Dogs:\n",
    "    def __init__(self,name,)"
   ]
  },
  {
   "cell_type": "code",
   "execution_count": 9,
   "id": "a203c19a-20c0-45a9-b00e-82e8df8b4e23",
   "metadata": {},
   "outputs": [
    {
     "name": "stdin",
     "output_type": "stream",
     "text": [
      " 3\n",
      " 5\n"
     ]
    },
    {
     "name": "stdout",
     "output_type": "stream",
     "text": [
      "8\n",
      "-2\n",
      "15\n",
      "0.6\n"
     ]
    }
   ],
   "source": [
    "class Calculator:\n",
    "    def add(self,num1,num2):\n",
    "        self.sum = num1 + num2\n",
    "    def sub(self,num1,num2):\n",
    "        self.sub = num1 - num2\n",
    "class Advanced_Calculator(Calculator):\n",
    "     def mul(self,num1,num2):\n",
    "        self.multi = num1 * num2\n",
    "     def div(self,num1,num2):\n",
    "        self.div = num1 / num2\n",
    "\n",
    "n1 = int(input())\n",
    "n2 = int(input())\n",
    "c = Advanced_Calculator()\n",
    "c.add(n1,n2)\n",
    "print(c.sum)\n",
    "c.sub(n1,n2)\n",
    "print(c.sub)\n",
    "c.mul(n1,n2)\n",
    "print(c.multi)\n",
    "c.div(n1,n2)\n",
    "print(c.div)\n",
    "\n"
   ]
  },
  {
   "cell_type": "code",
   "execution_count": null,
   "id": "c021a7aa-32e1-4275-85bd-cb110beb87c7",
   "metadata": {},
   "outputs": [],
   "source": [
    "class Calculator:\n",
    "    \n",
    "    "
   ]
  }
 ],
 "metadata": {
  "kernelspec": {
   "display_name": "Python 3 (ipykernel)",
   "language": "python",
   "name": "python3"
  },
  "language_info": {
   "codemirror_mode": {
    "name": "ipython",
    "version": 3
   },
   "file_extension": ".py",
   "mimetype": "text/x-python",
   "name": "python",
   "nbconvert_exporter": "python",
   "pygments_lexer": "ipython3",
   "version": "3.11.0"
  }
 },
 "nbformat": 4,
 "nbformat_minor": 5
}
