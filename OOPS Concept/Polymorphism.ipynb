{
 "cells": [
  {
   "cell_type": "code",
   "execution_count": 20,
   "id": "2278b784-1267-4cfb-adf0-f26d3cd55055",
   "metadata": {},
   "outputs": [
    {
     "name": "stdout",
     "output_type": "stream",
     "text": [
      "10\n"
     ]
    }
   ],
   "source": [
    "class calc:\n",
    "    def add(self,a,b=0,c=0):\n",
    "         return a+b+c\n",
    "    \n",
    "       \n",
    "\n",
    "def main():\n",
    "    result = calc()\n",
    "    print(result.add(5+5))\n",
    "    \n",
    "main()"
   ]
  },
  {
   "cell_type": "code",
   "execution_count": 21,
   "id": "ce81e834-35bd-4ce8-9033-24a919a07e00",
   "metadata": {},
   "outputs": [
    {
     "name": "stdout",
     "output_type": "stream",
     "text": [
      "Area of Circle: 114\n",
      "Area of Rectangle: 672\n"
     ]
    }
   ],
   "source": [
    "import math\n",
    "class Area:\n",
    "    def circle_rectangle_area(self,arg1=None,arg2=None):\n",
    "        if arg1!=None and arg2!=None:\n",
    "            return arg1*arg2\n",
    "        else:\n",
    "            return math.ceil(math.pi*arg1**2)\n",
    "\n",
    "radius = 6\n",
    "length = 56\n",
    "breath = 12\n",
    "\n",
    "obj = Area()\n",
    "print(\"Area of Circle:\",obj.circle_area(radius))\n",
    "print(\"Area of Rectangle:\",obj.circle_area(length,breath))\n",
    "\n",
    "\n",
    "        "
   ]
  },
  {
   "cell_type": "code",
   "execution_count": null,
   "id": "6b5aadc8-42c2-48ae-8d39-af54162cac7c",
   "metadata": {},
   "outputs": [],
   "source": []
  }
 ],
 "metadata": {
  "kernelspec": {
   "display_name": "Python 3 (ipykernel)",
   "language": "python",
   "name": "python3"
  },
  "language_info": {
   "codemirror_mode": {
    "name": "ipython",
    "version": 3
   },
   "file_extension": ".py",
   "mimetype": "text/x-python",
   "name": "python",
   "nbconvert_exporter": "python",
   "pygments_lexer": "ipython3",
   "version": "3.11.0"
  }
 },
 "nbformat": 4,
 "nbformat_minor": 5
}
