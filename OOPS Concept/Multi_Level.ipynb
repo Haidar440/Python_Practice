{
 "cells": [
  {
   "cell_type": "code",
   "execution_count": 11,
   "id": "43c1c8e4-a9c0-4994-832e-80c776a2e9ed",
   "metadata": {},
   "outputs": [
    {
     "name": "stdout",
     "output_type": "stream",
     "text": [
      "Person Name:: Haidar\n",
      "Staff Id:: 3\n",
      "Number of Days:: 30\n",
      "Hours Worked:: 8\n",
      "Salary Earned:: 1200\n"
     ]
    }
   ],
   "source": [
    "class Person:\n",
    "    def __init__(self,name):\n",
    "        self.name = name\n",
    "\n",
    "    def display(self):\n",
    "        print(\"Person Name::\",self.name)\n",
    "\n",
    "class Staff(Person):\n",
    "    def __init__(self,id1):\n",
    "        self.id = id1\n",
    "    def display(self):\n",
    "        super().display()\n",
    "        print(\"Staff Id::\",self.id)\n",
    "\n",
    "class Temporarystaff(Staff):\n",
    "    def __init__(self,name,id1,number_days,hwork):\n",
    "        self.no_days = number_days\n",
    "        self.hwork = hwork\n",
    "        self.salary()\n",
    "        self.name = name\n",
    "        self.id = id1\n",
    "    def salary(self):\n",
    "        self.salary_earned = self.hwork*150\n",
    "\n",
    "    def display(self):\n",
    "        super().display()\n",
    "        print(\"Number of Days::\",self.no_days)\n",
    "        print(\"Hours Worked::\",self.hwork)\n",
    "        print(\"Salary Earned::\",self.salary_earned)\n",
    "\n",
    "# name = input(\"Enter\")\n",
    "tmp_emp=Temporarystaff(\"Haidar\",3,30,8)\n",
    "tmp_emp.display()\n"
   ]
  },
  {
   "cell_type": "code",
   "execution_count": null,
   "id": "f348d634-fabe-4597-93e1-893f278be0a1",
   "metadata": {},
   "outputs": [],
   "source": [
    " "
   ]
  }
 ],
 "metadata": {
  "kernelspec": {
   "display_name": "Python 3 (ipykernel)",
   "language": "python",
   "name": "python3"
  },
  "language_info": {
   "codemirror_mode": {
    "name": "ipython",
    "version": 3
   },
   "file_extension": ".py",
   "mimetype": "text/x-python",
   "name": "python",
   "nbconvert_exporter": "python",
   "pygments_lexer": "ipython3",
   "version": "3.11.0"
  }
 },
 "nbformat": 4,
 "nbformat_minor": 5
}
