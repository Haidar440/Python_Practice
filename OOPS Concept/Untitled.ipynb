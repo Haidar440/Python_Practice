{
 "cells": [
  {
   "cell_type": "code",
   "execution_count": 4,
   "id": "97a51361-a100-43a8-9364-ad277f2d750a",
   "metadata": {},
   "outputs": [
    {
     "name": "stdin",
     "output_type": "stream",
     "text": [
      " 10\n"
     ]
    },
    {
     "name": "stdout",
     "output_type": "stream",
     "text": [
      "25\n"
     ]
    }
   ],
   "source": [
    "class Sum_odd:\n",
    "    def calc(self):\n",
    "        __n = int(input())\n",
    "        x = 0\n",
    "        for i in range(1,__n+1,2):\n",
    "            x += i\n",
    "        print(x)\n",
    "m = Sum_odd()\n",
    "m.calc()"
   ]
  },
  {
   "cell_type": "code",
   "execution_count": 7,
   "id": "0d39c01e-661b-4432-8582-5bf372b88cb1",
   "metadata": {},
   "outputs": [
    {
     "name": "stdin",
     "output_type": "stream",
     "text": [
      " 34\n"
     ]
    },
    {
     "name": "stdout",
     "output_type": "stream",
     "text": [
      "Even\n"
     ]
    }
   ],
   "source": [
    "class Check:\n",
    "    def odd_even(self):\n",
    "        __n=int(input())\n",
    "        if __n%2==0:\n",
    "            print(\"Even\")\n",
    "        else:\n",
    "            print(\"Odd\")\n",
    "ob = Check()\n",
    "ob.odd_even()"
   ]
  },
  {
   "cell_type": "code",
   "execution_count": 41,
   "id": "c3a5d2be-4975-48f5-b766-198bfd38b128",
   "metadata": {},
   "outputs": [
    {
     "name": "stdout",
     "output_type": "stream",
     "text": [
      "₹5000 deposited. New balance is ₹10000.\n",
      "₹4000 withdrawn. New balance is ₹6000.\n"
     ]
    }
   ],
   "source": [
    "class Bank_acc:\n",
    "    def __init__(self,owner,bal=0):\n",
    "        self.__balance = bal\n",
    "        self.owner = owner\n",
    "        \n",
    "    def get_bal(self):\n",
    "        return self.__balance\n",
    "        \n",
    "    def deposit(self,amount):\n",
    "        if amount>0:\n",
    "            self.__balance +=amount\n",
    "            print(f\"₹{amount} deposited. New balance is ₹{self.__balance}.\")\n",
    "        else:\n",
    "            print(\"Deposit amount must be positive.\")\n",
    "            \n",
    "    def withdraw(self,amount):\n",
    "        if 0<amount<=self.__balance:\n",
    "            self.__balance -=amount\n",
    "            print(f\"₹{amount} withdrawn. New balance is ₹{self.__balance}.\")\n",
    "        else:\n",
    "            print(\"Insufficient amt\")\n",
    "\n",
    "account = Bank_acc(\"Haidarali\",5000)\n",
    "\n",
    "account.get_bal()\n",
    "\n",
    "account.deposit(5000)\n",
    "\n",
    "account.withdraw(4000)\n"
   ]
  },
  {
   "cell_type": "code",
   "execution_count": null,
   "id": "f70f9f25-4ad7-4965-bc21-45a35deb36d6",
   "metadata": {},
   "outputs": [],
   "source": []
  }
 ],
 "metadata": {
  "kernelspec": {
   "display_name": "Python 3 (ipykernel)",
   "language": "python",
   "name": "python3"
  },
  "language_info": {
   "codemirror_mode": {
    "name": "ipython",
    "version": 3
   },
   "file_extension": ".py",
   "mimetype": "text/x-python",
   "name": "python",
   "nbconvert_exporter": "python",
   "pygments_lexer": "ipython3",
   "version": "3.11.0"
  }
 },
 "nbformat": 4,
 "nbformat_minor": 5
}
