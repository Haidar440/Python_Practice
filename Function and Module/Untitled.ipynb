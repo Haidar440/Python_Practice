{
 "cells": [
  {
   "cell_type": "code",
   "execution_count": 9,
   "id": "263cae84-0bec-4ee7-9f56-d0d3c798dd1a",
   "metadata": {},
   "outputs": [
    {
     "name": "stdin",
     "output_type": "stream",
     "text": [
      "Enter a number 10\n",
      "Enter a number 11\n",
      "Enter a number 9\n"
     ]
    },
    {
     "name": "stdout",
     "output_type": "stream",
     "text": [
      "11\n",
      "9\n"
     ]
    }
   ],
   "source": [
    "def second_greatest_number(a,b,c):\n",
    "    second_greatest_number = a if a>b else b\n",
    "    print(second_greatest_number)\n",
    "    second_greatest_number =  second_greatest_number  if second_greatest_number < c else c\n",
    "    return second_greatest_number\n",
    "\n",
    "n1 = int(input('Enter a number'))\n",
    "n2 = int(input('Enter a number'))\n",
    "n3 = int(input('Enter a number'))\n",
    "print(second_greatest_number(n1,n2,n3))"
   ]
  },
  {
   "cell_type": "code",
   "execution_count": 14,
   "id": "6c4d10d7-98be-4788-8f03-caf5c85750c6",
   "metadata": {},
   "outputs": [
    {
     "name": "stdin",
     "output_type": "stream",
     "text": [
      "Enter a number 0\n"
     ]
    },
    {
     "name": "stdout",
     "output_type": "stream",
     "text": [
      "negative\n"
     ]
    }
   ],
   "source": [
    "n1 = int(input(\"Enter a number\"))\n",
    "\n",
    "if n1>0:\n",
    "    if n1%2==0:\n",
    "        print(\"Positive and Even\")    \n",
    "else:\n",
    "    if n1%2!=0:\n",
    "        print('negative and odd')  \n",
    "    else:\n",
    "        print(\"negative\")\n",
    "        "
   ]
  }
 ],
 "metadata": {
  "kernelspec": {
   "display_name": "Python 3 (ipykernel)",
   "language": "python",
   "name": "python3"
  },
  "language_info": {
   "codemirror_mode": {
    "name": "ipython",
    "version": 3
   },
   "file_extension": ".py",
   "mimetype": "text/x-python",
   "name": "python",
   "nbconvert_exporter": "python",
   "pygments_lexer": "ipython3",
   "version": "3.11.0"
  }
 },
 "nbformat": 4,
 "nbformat_minor": 5
}
