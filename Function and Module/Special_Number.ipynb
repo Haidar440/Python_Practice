{
 "cells": [
  {
   "cell_type": "code",
   "execution_count": 4,
   "id": "8d6104c9-48ee-40c0-9152-9f1b1a5b9f3f",
   "metadata": {},
   "outputs": [
    {
     "name": "stdin",
     "output_type": "stream",
     "text": [
      "Enter any number 4\n",
      "Enter any number 8\n",
      "Enter any number 3\n"
     ]
    },
    {
     "name": "stdout",
     "output_type": "stream",
     "text": [
      "The Sum and Product Respectively (14.0, 72.0)\n"
     ]
    }
   ],
   "source": [
    "x = int(input(\"Enter any number\"))\n",
    "y = float(input(\"Enter any number\"))\n",
    "z = x = int(input(\"Enter any number\"))\n",
    "\n",
    "def sum_product(a,b,c):\n",
    "    return a+b+c,a*b*c\n",
    "\n",
    "\n",
    "print(\"The Sum and Product Respectively\",sum_product(x,y,z))"
   ]
  },
  {
   "cell_type": "code",
   "execution_count": 6,
   "id": "51aeb4a5-6912-4c90-a780-6c59cf106b5f",
   "metadata": {},
   "outputs": [
    {
     "name": "stdin",
     "output_type": "stream",
     "text": [
      "Enter any number 34\n",
      "Enter any number 56\n",
      "Enter any number 56\n"
     ]
    },
    {
     "name": "stdout",
     "output_type": "stream",
     "text": [
      "Maximum Number:: 56\n"
     ]
    }
   ],
   "source": [
    "num1 = int(input(\"Enter any number\"))\n",
    "num2 = int(input(\"Enter any number\"))\n",
    "num3 = x = int(input(\"Enter any number\"))\n",
    "\n",
    "def max_num(a,b,c):\n",
    "    max = a if a>b else b\n",
    "    max = max if max>c else c\n",
    "    return max\n",
    "\n",
    "print(\"Maximum Number::\",max_num(num1,num2,num3))\n"
   ]
  },
  {
   "cell_type": "code",
   "execution_count": 25,
   "id": "28feba6a-53d1-4b18-bdef-36bae11001c0",
   "metadata": {},
   "outputs": [
    {
     "name": "stdin",
     "output_type": "stream",
     "text": [
      "enter any number 29\n"
     ]
    },
    {
     "name": "stdout",
     "output_type": "stream",
     "text": [
      "Special Number\n"
     ]
    }
   ],
   "source": [
    "num = int(input(\"enter any number\"))\n",
    "temp = num\n",
    "i=1\n",
    "sum =0\n",
    "product = 1\n",
    "while num!=0:\n",
    "    sum = sum + (num%10)\n",
    "    product = product * (num%10)\n",
    "    num = num//10\n",
    "\n",
    "if (sum+product) == temp:\n",
    "    print(\"Special Number\")\n",
    "else:\n",
    "    print(\"Not Special number\")"
   ]
  },
  {
   "cell_type": "code",
   "execution_count": 28,
   "id": "8f85f290-fd27-4156-b0e4-407bc54ec611",
   "metadata": {},
   "outputs": [
    {
     "name": "stdin",
     "output_type": "stream",
     "text": [
      "Enter any number 19\n"
     ]
    },
    {
     "name": "stdout",
     "output_type": "stream",
     "text": [
      "1\n",
      "1\n",
      "10\n",
      "9\n",
      "Not Special\n"
     ]
    }
   ],
   "source": [
    "num = input(\"Enter any number\")\n",
    "sum=0\n",
    "product=1\n",
    "for i in num:\n",
    "    sum+=int(i)\n",
    "    print(sum)\n",
    "    product*=int(i)\n",
    "    print(product)\n",
    "\n",
    "\n",
    "if (sum+product)==num:\n",
    "    print(\"Special\")\n",
    "else:\n",
    "    print(\"Not Special\")"
   ]
  }
 ],
 "metadata": {
  "kernelspec": {
   "display_name": "Python 3 (ipykernel)",
   "language": "python",
   "name": "python3"
  },
  "language_info": {
   "codemirror_mode": {
    "name": "ipython",
    "version": 3
   },
   "file_extension": ".py",
   "mimetype": "text/x-python",
   "name": "python",
   "nbconvert_exporter": "python",
   "pygments_lexer": "ipython3",
   "version": "3.11.0"
  }
 },
 "nbformat": 4,
 "nbformat_minor": 5
}
