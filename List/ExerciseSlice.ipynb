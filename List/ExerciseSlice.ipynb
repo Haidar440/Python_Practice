{
 "cells": [
  {
   "cell_type": "code",
   "execution_count": null,
   "id": "0caf566f-490e-42d2-a4e8-75a93837dd00",
   "metadata": {},
   "outputs": [],
   "source": [
    "l1 = [10,20,30,40]\n",
    "i=0\n",
    "while i<len(l1):\n",
    "    print(l1[i],end=\" \")\n",
    "    i+=1"
   ]
  },
  {
   "cell_type": "code",
   "execution_count": null,
   "id": "92066259-6ab1-4fbf-8053-d19f4a3cc28a",
   "metadata": {},
   "outputs": [],
   "source": [
    "l2 = [30,40,50,60]\n",
    "\n",
    "for i in l2:\n",
    "    if i==30:\n",
    "        print(\"Avaiable\")    \n",
    "        break\n",
    "else:   \n",
    "    print(\"Not Availabe\")\n"
   ]
  },
  {
   "cell_type": "code",
   "execution_count": null,
   "id": "390a26a0-4f2a-49ea-b008-713728dce7b6",
   "metadata": {},
   "outputs": [],
   "source": [
    "l2.index(30)\n",
    "\n",
    "l2 = [30,40,30,60]\n",
    "\n",
    "for i in range(len(l2)):\n",
    "    if l2[i]==30:\n",
    "        print(i)\n",
    "        break"
   ]
  },
  {
   "cell_type": "code",
   "execution_count": 31,
   "id": "ab0d97bf-e54c-4e62-8a18-cca5881dd876",
   "metadata": {},
   "outputs": [
    {
     "data": {
      "text/plain": [
       "10"
      ]
     },
     "execution_count": 31,
     "metadata": {},
     "output_type": "execute_result"
    }
   ],
   "source": [
    "l3 = [10,20,30,40,58,90,23,56,78,98,34,13,57,89,33,45,87,11,29,3,4,9,10,20,47,56,6,87,72,84]\n",
    "len(l3)\n",
    "l3[len(l3)-1]\n",
    "l3[-len(l3)]"
   ]
  },
  {
   "cell_type": "code",
   "execution_count": 36,
   "id": "343dfbcd-8e99-4dcf-865d-22303714b605",
   "metadata": {},
   "outputs": [
    {
     "data": {
      "text/plain": [
       "[1, 'ABC', 84.9, 'a', 'H', 'E', 'l', 'l', 'o']"
      ]
     },
     "execution_count": 36,
     "metadata": {},
     "output_type": "execute_result"
    }
   ],
   "source": [
    "info = [1,\"ABC\",84.9,'a']\n",
    "string = list(\"HEllo\")\n",
    "info.extend(string)\n",
    "info"
   ]
  },
  {
   "cell_type": "code",
   "execution_count": 41,
   "id": "14deca98-e971-446f-9c6d-64fb25ed47db",
   "metadata": {},
   "outputs": [],
   "source": [
    "info += \"Hello\""
   ]
  },
  {
   "cell_type": "code",
   "execution_count": 43,
   "id": "07be6513-83ca-46fd-900c-9b95fddfe33b",
   "metadata": {},
   "outputs": [
    {
     "name": "stdout",
     "output_type": "stream",
     "text": [
      "[1, 'ABC', 84.9, 'a', 'H', 'E', 'l', 'l', 'o', 'H', 'e', 'l', 'l', 'o', 'H', 'e', 'l', 'l', 'o', 'H', 'e', 'l', 'l', 'o']\n"
     ]
    }
   ],
   "source": [
    "print(info)"
   ]
  },
  {
   "cell_type": "code",
   "execution_count": 51,
   "id": "17856bd7-6093-4479-9c66-06183f3e7c12",
   "metadata": {},
   "outputs": [
    {
     "data": {
      "text/plain": [
       "[1, 'ABC', 84.9, 'a']"
      ]
     },
     "execution_count": 51,
     "metadata": {},
     "output_type": "execute_result"
    }
   ],
   "source": [
    "info = [\n",
    "    item \n",
    "    for item in info \n",
    "    if item not in ['H', 'e', 'l', 'o','E']\n",
    "]\n",
    "info"
   ]
  },
  {
   "cell_type": "code",
   "execution_count": 68,
   "id": "26154fd3-54d6-49e5-9d4e-881a6f3fa7cd",
   "metadata": {},
   "outputs": [
    {
     "name": "stdin",
     "output_type": "stream",
     "text": [
      " 45\n"
     ]
    },
    {
     "name": "stdout",
     "output_type": "stream",
     "text": [
      "[45, 45, 45, 45, 45, 45, 45, 45, 45, 45, 45, 45, 45, 45, 45, 45, 45, 45, 45, 45, 45, 45, 45, 45, 45, 45, 45, 45, 45, 45, 45, 45, 45, 45, 45, 45, 45, 45, 45, 45, 45, 45, 45, 45, 45, 45, 45, 45, 45, 45, 45, 45, 45, 45, 45, 45, 45, 45, 45, 45, 45, 45, 45, 45, 45, 45, 45, 45, 45, 45, 45, 45, 45, 45, 45, 45, 45, 45, 45, 45, 45, 45, 45, 45, 45, 45, 45, 45, 45, 45, 45, 45, 45, 45, 45, 45, 45, 45, 45, 45]\n"
     ]
    }
   ],
   "source": [
    "n = int(input())\n",
    "l1 = [n]\n",
    "l1 = l1*100\n",
    "print(l1)"
   ]
  },
  {
   "cell_type": "code",
   "execution_count": 87,
   "id": "06d5b401-d15c-499b-b31d-47e466fca5b3",
   "metadata": {},
   "outputs": [
    {
     "data": {
      "text/plain": [
       "[1, 3, 5, 7, 9, 11, 13, 15, 17, 19]"
      ]
     },
     "execution_count": 87,
     "metadata": {},
     "output_type": "execute_result"
    }
   ],
   "source": [
    "l_odd = list(range(1,20+1,2))\n",
    "l_odd"
   ]
  },
  {
   "cell_type": "code",
   "execution_count": 90,
   "id": "838894e9-23b9-4a93-8a5b-b4799717115a",
   "metadata": {},
   "outputs": [
    {
     "data": {
      "text/plain": [
       "[1, 3, 5, 7, 9, 11, 13, 15, 17, 19]"
      ]
     },
     "execution_count": 90,
     "metadata": {},
     "output_type": "execute_result"
    }
   ],
   "source": [
    "l2 = list(range(1,20+1))\n",
    "l2\n",
    "l2_odd = l2[0::2]\n",
    "l2_odd\n"
   ]
  },
  {
   "cell_type": "code",
   "execution_count": 91,
   "id": "4633f80d-3f33-4768-af38-34399d7ada8a",
   "metadata": {},
   "outputs": [
    {
     "data": {
      "text/plain": [
       "[2, 4, 6, 8, 10, 12, 14, 16, 18, 20]"
      ]
     },
     "execution_count": 91,
     "metadata": {},
     "output_type": "execute_result"
    }
   ],
   "source": [
    "l4= list(range(1,20+1))\n",
    "l4\n",
    "l_even = l4[1::2]\n",
    "l_even"
   ]
  },
  {
   "cell_type": "code",
   "execution_count": 96,
   "id": "5485cb45-1aff-42ea-b233-83982d94b0ce",
   "metadata": {},
   "outputs": [
    {
     "name": "stdin",
     "output_type": "stream",
     "text": [
      " sdfghdfgh\n"
     ]
    },
    {
     "data": {
      "text/plain": [
       "['s', 'd', 'f', 'g', 'h', 'd', 'f', 'g', 'h']"
      ]
     },
     "execution_count": 96,
     "metadata": {},
     "output_type": "execute_result"
    }
   ],
   "source": [
    "string = input()\n",
    "l1 = []\n",
    "l1+= string\n",
    "l1\n",
    "\n",
    "l2 = list(string)\n",
    "l2"
   ]
  },
  {
   "cell_type": "code",
   "execution_count": null,
   "id": "de43d19c-03c5-4c17-835e-78cb8e7eae30",
   "metadata": {},
   "outputs": [],
   "source": []
  },
  {
   "cell_type": "code",
   "execution_count": null,
   "id": "1b9a53fb-839b-4088-906a-d3f2ce3f09ee",
   "metadata": {},
   "outputs": [],
   "source": []
  }
 ],
 "metadata": {
  "kernelspec": {
   "display_name": "Python 3 (ipykernel)",
   "language": "python",
   "name": "python3"
  },
  "language_info": {
   "codemirror_mode": {
    "name": "ipython",
    "version": 3
   },
   "file_extension": ".py",
   "mimetype": "text/x-python",
   "name": "python",
   "nbconvert_exporter": "python",
   "pygments_lexer": "ipython3",
   "version": "3.11.0"
  }
 },
 "nbformat": 4,
 "nbformat_minor": 5
}
