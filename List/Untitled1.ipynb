{
 "cells": [
  {
   "cell_type": "code",
   "execution_count": 1,
   "id": "07df23f9-9434-4544-bc7b-72e26b64b17d",
   "metadata": {},
   "outputs": [
    {
     "name": "stdout",
     "output_type": "stream",
     "text": [
      "[0, -1, 2, -3, 4]\n"
     ]
    }
   ],
   "source": [
    "numbers = [x if x % 2 == 0 else -x for x in range(5)]\n",
    "print(numbers)  # Output: [0, -1, 2, -3, 4]\n"
   ]
  },
  {
   "cell_type": "code",
   "execution_count": 5,
   "id": "a18f0900-c524-4837-bbca-91cd72a70efb",
   "metadata": {},
   "outputs": [
    {
     "name": "stdout",
     "output_type": "stream",
     "text": [
      "[0, -1, 2, -3, 4]\n"
     ]
    }
   ],
   "source": [
    "numbers = [x if x % 2 == 0 else -x for x in range(5)]\n",
    "print(numbers)  # Output: [0, -1, 2, -3, 4]\n"
   ]
  },
  {
   "cell_type": "code",
   "execution_count": 20,
   "id": "fd04d508-e5d6-46ea-88e9-4a9bea0cb39d",
   "metadata": {},
   "outputs": [
    {
     "name": "stdin",
     "output_type": "stream",
     "text": [
      " 5\n",
      " 8 7 6 5 4\n"
     ]
    },
    {
     "name": "stdout",
     "output_type": "stream",
     "text": [
      "7\n",
      "[8, 7, 6, 5, 4]\n"
     ]
    }
   ],
   "source": [
    "n = int(input())\n",
    "arr = map(int, input().split())\n",
    "\n",
    "arr = sorted(arr,reverse=True)\n",
    "for i in arr:\n",
    "    if i < arr[0]:\n",
    "        print(i)\n",
    "        break\n",
    "print(arr)"
   ]
  }
 ],
 "metadata": {
  "kernelspec": {
   "display_name": "Python 3 (ipykernel)",
   "language": "python",
   "name": "python3"
  },
  "language_info": {
   "codemirror_mode": {
    "name": "ipython",
    "version": 3
   },
   "file_extension": ".py",
   "mimetype": "text/x-python",
   "name": "python",
   "nbconvert_exporter": "python",
   "pygments_lexer": "ipython3",
   "version": "3.11.0"
  }
 },
 "nbformat": 4,
 "nbformat_minor": 5
}
