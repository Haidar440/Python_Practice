{
 "cells": [
  {
   "cell_type": "code",
   "execution_count": 18,
   "id": "7768a366-287f-4a9f-91b6-6ccee4d2e0ae",
   "metadata": {},
   "outputs": [
    {
     "name": "stdout",
     "output_type": "stream",
     "text": [
      "[[0, 0, 0, 0, 0]]\n"
     ]
    }
   ],
   "source": [
    "a = [0]*5\n",
    "print([a])"
   ]
  },
  {
   "cell_type": "code",
   "execution_count": 20,
   "id": "779d24c1-74b8-4bd1-a0ea-2d6b0aa7db60",
   "metadata": {},
   "outputs": [
    {
     "name": "stdout",
     "output_type": "stream",
     "text": [
      "['a', 'b', 'c', 'd', 'python', 'list']\n"
     ]
    }
   ],
   "source": [
    "letter = ['a','b','c','d']\n",
    "stg = ['python','list']\n",
    "conc = letter+stg\n",
    "print(conc)"
   ]
  },
  {
   "cell_type": "code",
   "execution_count": 31,
   "id": "cd5eb8e6-6ff9-4d46-874f-b99ffd45c24c",
   "metadata": {},
   "outputs": [
    {
     "name": "stdout",
     "output_type": "stream",
     "text": [
      "1\n",
      "2\n",
      "3\n",
      "4\n"
     ]
    }
   ],
   "source": [
    "list_1 = [1,2,3,4]\n",
    "a,b,c,d=list_1\n",
    "print(a)\n",
    "print(b)\n",
    "print(c)\n",
    "print(d)"
   ]
  },
  {
   "cell_type": "code",
   "execution_count": 39,
   "id": "513be69e-0d5d-446e-8d21-3f260789ba80",
   "metadata": {},
   "outputs": [
    {
     "data": {
      "text/plain": [
       "'W R AASINIT'"
      ]
     },
     "execution_count": 39,
     "metadata": {},
     "output_type": "execute_result"
    }
   ],
   "source": [
    "a =1\n",
    "b =2\n",
    "x = \"WE ARE DATA SCIENTIST\"\n",
    "x[::2]\n",
    "\n",
    "# print(a,b)"
   ]
  }
 ],
 "metadata": {
  "kernelspec": {
   "display_name": "Python 3 (ipykernel)",
   "language": "python",
   "name": "python3"
  },
  "language_info": {
   "codemirror_mode": {
    "name": "ipython",
    "version": 3
   },
   "file_extension": ".py",
   "mimetype": "text/x-python",
   "name": "python",
   "nbconvert_exporter": "python",
   "pygments_lexer": "ipython3",
   "version": "3.11.0"
  }
 },
 "nbformat": 4,
 "nbformat_minor": 5
}
