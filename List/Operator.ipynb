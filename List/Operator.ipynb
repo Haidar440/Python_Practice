{
 "cells": [
  {
   "cell_type": "code",
   "execution_count": 18,
   "id": "7768a366-287f-4a9f-91b6-6ccee4d2e0ae",
   "metadata": {},
   "outputs": [
    {
     "name": "stdout",
     "output_type": "stream",
     "text": [
      "[[0, 0, 0, 0, 0]]\n"
     ]
    }
   ],
   "source": [
    "a = [0]*5\n",
    "print([a])"
   ]
  },
  {
   "cell_type": "code",
   "execution_count": 20,
   "id": "779d24c1-74b8-4bd1-a0ea-2d6b0aa7db60",
   "metadata": {},
   "outputs": [
    {
     "name": "stdout",
     "output_type": "stream",
     "text": [
      "['a', 'b', 'c', 'd', 'python', 'list']\n"
     ]
    }
   ],
   "source": [
    "letter = ['a','b','c','d']\n",
    "stg = ['python','list']\n",
    "conc = letter+stg\n",
    "print(conc)"
   ]
  },
  {
   "cell_type": "code",
   "execution_count": 31,
   "id": "cd5eb8e6-6ff9-4d46-874f-b99ffd45c24c",
   "metadata": {},
   "outputs": [
    {
     "name": "stdout",
     "output_type": "stream",
     "text": [
      "1\n",
      "2\n",
      "3\n",
      "4\n"
     ]
    }
   ],
   "source": [
    "list_1 = [1,2,3,4]\n",
    "a,b,c,d=list_1\n",
    "print(a)\n",
    "print(b)\n",
    "print(c)\n",
    "print(d)"
   ]
  },
  {
   "cell_type": "code",
   "execution_count": 39,
   "id": "513be69e-0d5d-446e-8d21-3f260789ba80",
   "metadata": {},
   "outputs": [
    {
     "data": {
      "text/plain": [
       "'W R AASINIT'"
      ]
     },
     "execution_count": 39,
     "metadata": {},
     "output_type": "execute_result"
    }
   ],
   "source": [
    "a =1\n",
    "b =2\n",
    "x = \"WE ARE DATA SCIENTIST\"\n",
    "x[::2]\n",
    "\n",
    "# print(a,b)"
   ]
  },
  {
   "cell_type": "code",
   "execution_count": 4,
   "id": "5ffbf5a3-3d41-4be8-9433-6a51605a5fad",
   "metadata": {},
   "outputs": [
    {
     "name": "stdin",
     "output_type": "stream",
     "text": [
      "Enter the number of elements:  3\n",
      "Enter 3 numbers separated by space:  34 56 43\n"
     ]
    },
    {
     "name": "stdout",
     "output_type": "stream",
     "text": [
      "The entered list is: [34, 56, 43]\n"
     ]
    },
    {
     "data": {
      "text/plain": [
       "56"
      ]
     },
     "execution_count": 4,
     "metadata": {},
     "output_type": "execute_result"
    }
   ],
   "source": [
    "n = int(input(\"Enter the number of elements: \"))\n",
    "l1 = list(map(int, input(f\"Enter {n} numbers separated by space: \").split()))\n",
    "print(\"The entered list is:\", l1)\n",
    "max_number = max(l1)\n",
    "max_number"
   ]
  },
  {
   "cell_type": "code",
   "execution_count": 10,
   "id": "01708287-8d5d-47cf-804a-ee0ce650f049",
   "metadata": {},
   "outputs": [
    {
     "name": "stdin",
     "output_type": "stream",
     "text": [
      "Enter the number of elements:  3 \n",
      " 10 20 30 \n"
     ]
    },
    {
     "data": {
      "text/plain": [
       "60"
      ]
     },
     "execution_count": 10,
     "metadata": {},
     "output_type": "execute_result"
    }
   ],
   "source": [
    "n = int(input(\"Enter the number of elements: \"))\n",
    "l2 = list(map(int,input().split()))\n",
    "sum(l2)"
   ]
  },
  {
   "cell_type": "code",
   "execution_count": 17,
   "id": "d7c18e47-4163-47fc-bd3e-190c7d7069b8",
   "metadata": {},
   "outputs": [
    {
     "name": "stdin",
     "output_type": "stream",
     "text": [
      "Enter any Numbetr 6\n",
      " 34 45 34 45 34 12 4 56 4\n"
     ]
    },
    {
     "name": "stdout",
     "output_type": "stream",
     "text": [
      "[34, 45, 34, 45, 34, 12]\n"
     ]
    },
    {
     "data": {
      "text/plain": [
       "3"
      ]
     },
     "execution_count": 17,
     "metadata": {},
     "output_type": "execute_result"
    }
   ],
   "source": [
    "n = int(input(\"Enter any Numbetr\"))\n",
    "l2 = list(map(int,input().split()))\n",
    "l2 = l2[:n]\n",
    "l3 = []\n",
    "for i in l2:\n",
    "    if i not in l3:\n",
    "        l3.append(i)\n",
    "print(l2)\n",
    "len(l3)"
   ]
  },
  {
   "cell_type": "code",
   "execution_count": 18,
   "id": "df9070ef-5187-4ee2-8332-f07eebea3683",
   "metadata": {},
   "outputs": [
    {
     "data": {
      "text/plain": [
       "['apple', 'banana', 'mango']"
      ]
     },
     "execution_count": 18,
     "metadata": {},
     "output_type": "execute_result"
    }
   ],
   "source": [
    "fruits = [\"apple\",\"banana\",\"cherry\",\"kiwi\",\"mango\"]\n",
    "newlist = [x for x in fruits if \"a\" in x]\n"
   ]
  },
  {
   "cell_type": "code",
   "execution_count": 19,
   "id": "1462e715-274c-47c7-8e5b-84bcf81628e3",
   "metadata": {},
   "outputs": [
    {
     "name": "stdin",
     "output_type": "stream",
     "text": [
      " 45 556\n"
     ]
    },
    {
     "name": "stdout",
     "output_type": "stream",
     "text": [
      "45\n",
      "556\n"
     ]
    }
   ],
   "source": [
    "x,y=[int(x) for x in input().split()]\n",
    "print(x)\n",
    "print(y)"
   ]
  },
  {
   "cell_type": "code",
   "execution_count": 20,
   "id": "184a10bf-2491-4373-ac39-048260ad3e36",
   "metadata": {},
   "outputs": [
    {
     "name": "stdin",
     "output_type": "stream",
     "text": [
      " 34 56 45 454\n"
     ]
    },
    {
     "name": "stdout",
     "output_type": "stream",
     "text": [
      "[34, 56, 45, 454]\n"
     ]
    }
   ],
   "source": [
    "x=[int(x) for x in input().split()]\n",
    "print(x)"
   ]
  }
 ],
 "metadata": {
  "kernelspec": {
   "display_name": "Python 3 (ipykernel)",
   "language": "python",
   "name": "python3"
  },
  "language_info": {
   "codemirror_mode": {
    "name": "ipython",
    "version": 3
   },
   "file_extension": ".py",
   "mimetype": "text/x-python",
   "name": "python",
   "nbconvert_exporter": "python",
   "pygments_lexer": "ipython3",
   "version": "3.11.0"
  }
 },
 "nbformat": 4,
 "nbformat_minor": 5
}
