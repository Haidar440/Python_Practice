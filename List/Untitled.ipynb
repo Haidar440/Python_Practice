{
 "cells": [
  {
   "cell_type": "code",
   "execution_count": 3,
   "id": "742ab116-9b03-4329-9684-42fc8b7e03fa",
   "metadata": {},
   "outputs": [
    {
     "name": "stdin",
     "output_type": "stream",
     "text": [
      "Enter size of list 1 4\n",
      " 34\n",
      " 45\n",
      " 56\n",
      " 45\n"
     ]
    },
    {
     "name": "stdout",
     "output_type": "stream",
     "text": [
      "[34, 45, 56, 45]\n"
     ]
    },
    {
     "name": "stdin",
     "output_type": "stream",
     "text": [
      "Enter size of list 2 4\n",
      " 34\n",
      " 45\n",
      " 67\n",
      " 56\n"
     ]
    },
    {
     "name": "stdout",
     "output_type": "stream",
     "text": [
      "[34, 45, 67, 56]\n"
     ]
    }
   ],
   "source": [
    "size_list = int(input(\"Enter size of list 1\"))\n",
    "list_element = []\n",
    "for i in range(size_list):\n",
    "    list_element.append(int(input()))\n",
    "print(list_element)   \n",
    "size_list2 = int(input(\"Enter size of list 2\"))\n",
    "list_element2 = []\n",
    "for i in range(size_list2):\n",
    "    list_element2.append((int(input())))\n",
    "print(list_element2)   "
   ]
  },
  {
   "cell_type": "code",
   "execution_count": 4,
   "id": "333b100e-da65-4214-afc3-57018b8893b3",
   "metadata": {},
   "outputs": [
    {
     "name": "stdin",
     "output_type": "stream",
     "text": [
      " 4\n",
      " 34 556 34 34 24\n"
     ]
    },
    {
     "name": "stdout",
     "output_type": "stream",
     "text": [
      "556\n"
     ]
    }
   ],
   "source": [
    "a = int(input())\n",
    "b = list(map(int,input().split()))\n",
    "print(max(b))"
   ]
  },
  {
   "cell_type": "code",
   "execution_count": 25,
   "id": "97462390-1d76-4b11-ad0d-a582231e9fd3",
   "metadata": {},
   "outputs": [
    {
     "name": "stdin",
     "output_type": "stream",
     "text": [
      " 45 34 24 24 24\n"
     ]
    },
    {
     "name": "stdout",
     "output_type": "stream",
     "text": [
      "34\n"
     ]
    }
   ],
   "source": [
    "l1= list(map(int,input().split()))\n",
    "l1.sort()\n",
    "second_largest = l1[-2]\n",
    "print(second_largest)"
   ]
  },
  {
   "cell_type": "code",
   "execution_count": 27,
   "id": "a92e04ee-dde8-40a3-87f9-1bc94b134814",
   "metadata": {},
   "outputs": [
    {
     "name": "stdout",
     "output_type": "stream",
     "text": [
      "[1, 3, 5, 7, 9]\n"
     ]
    }
   ],
   "source": [
    "l1_number = list(range(1,11))\n",
    "list_odd = l1_number[0::2]\n",
    "print(list_odd)"
   ]
  },
  {
   "cell_type": "code",
   "execution_count": 31,
   "id": "6c0e7e7e-eac9-4e7c-9fe9-70a61a71f8e9",
   "metadata": {},
   "outputs": [
    {
     "name": "stdin",
     "output_type": "stream",
     "text": [
      " 4\n",
      " 34\n",
      " 345\n",
      " 24\n",
      " 231\n"
     ]
    },
    {
     "name": "stdout",
     "output_type": "stream",
     "text": [
      "Largest Number odd 34\n",
      "Largest Number even 345\n"
     ]
    }
   ],
   "source": [
    "n = int(input())\n",
    "list_1 = []\n",
    "for i in range(n):\n",
    "    list_1.append(int(input()))\n",
    "\n",
    "odd_largest = []\n",
    "even_largest = []\n",
    "for i in list_1:\n",
    "    if i%2==0:\n",
    "         even_largest.append(i)\n",
    "    else:\n",
    "        odd_largest.append(i)\n",
    "\n",
    "odd_largest.sort()\n",
    "even_largest.sort()\n",
    "print(\"Largest Number odd\",odd_largest[-1])\n",
    "print(\"Largest Number even\",even_largest[-1])"
   ]
  },
  {
   "cell_type": "code",
   "execution_count": 33,
   "id": "2c253206-053b-49e5-97cd-3e1d9b5b27d0",
   "metadata": {},
   "outputs": [
    {
     "name": "stdin",
     "output_type": "stream",
     "text": [
      "Enter the list 45 34 567 33\n",
      "Enter the list 34 56 45 23\n"
     ]
    },
    {
     "name": "stdout",
     "output_type": "stream",
     "text": [
      "union [23, 33, 34, 45, 56, 567]\n"
     ]
    }
   ],
   "source": [
    "a = list(map(int,input(\"Enter the list\").split()))\n",
    "b = list(map(int,input(\"Enter the list\").split()))\n",
    "union = list(set().union(a,b)) \n",
    "union.sort()\n",
    "print(\"union\",union)"
   ]
  },
  {
   "cell_type": "code",
   "execution_count": 12,
   "id": "834499bf-c2fc-4896-b8ba-05c28fa5a8ce",
   "metadata": {},
   "outputs": [
    {
     "name": "stdin",
     "output_type": "stream",
     "text": [
      " 345 34 23 56 34 5 5 64 34 56\n"
     ]
    },
    {
     "data": {
      "text/plain": [
       "[34, 56, 5]"
      ]
     },
     "execution_count": 12,
     "metadata": {},
     "output_type": "execute_result"
    }
   ],
   "source": [
    "list1 = list(map(int,input().split()))\n",
    "duplicate = []\n",
    "for i in list1:\n",
    "    if i not in duplicate and i in list1[list1.index(i)+1:]:\n",
    "         duplicate.append(i)\n",
    "   \n",
    "duplicate  \n",
    "    "
   ]
  },
  {
   "cell_type": "code",
   "execution_count": 3,
   "id": "c3ebed1e-1efa-4e88-b351-12642892aefc",
   "metadata": {},
   "outputs": [
    {
     "name": "stdin",
     "output_type": "stream",
     "text": [
      " 34 23 23 34 2 14 5 1 5 2 \n"
     ]
    },
    {
     "data": {
      "text/plain": [
       "[34, 23, 2, 14, 5, 1]"
      ]
     },
     "execution_count": 3,
     "metadata": {},
     "output_type": "execute_result"
    }
   ],
   "source": [
    "l1 = list(map(int,input().split()))\n",
    "unique = []\n",
    "\n",
    "for i in l1:\n",
    "    if i not in unique:\n",
    "        unique.append(i)\n",
    "\n",
    "unique"
   ]
  },
  {
   "cell_type": "code",
   "execution_count": 4,
   "id": "994483ed-4970-421d-8ed6-37ff44f50770",
   "metadata": {},
   "outputs": [
    {
     "name": "stdin",
     "output_type": "stream",
     "text": [
      " 45 35 24 21 34 234\n"
     ]
    },
    {
     "data": {
      "text/plain": [
       "[234, 35, 24, 21, 34, 45]"
      ]
     },
     "execution_count": 4,
     "metadata": {},
     "output_type": "execute_result"
    }
   ],
   "source": [
    "l1 = list(map(int,input().split()))\n",
    "l1[0] = l1[0] + l1[-1]\n",
    "l1[-1] = l1[0] - l1[-1]\n",
    "l1[0] = l1[0] - l1[-1]\n",
    "\n",
    "l1 "
   ]
  }
 ],
 "metadata": {
  "kernelspec": {
   "display_name": "Python 3 (ipykernel)",
   "language": "python",
   "name": "python3"
  },
  "language_info": {
   "codemirror_mode": {
    "name": "ipython",
    "version": 3
   },
   "file_extension": ".py",
   "mimetype": "text/x-python",
   "name": "python",
   "nbconvert_exporter": "python",
   "pygments_lexer": "ipython3",
   "version": "3.11.0"
  }
 },
 "nbformat": 4,
 "nbformat_minor": 5
}
