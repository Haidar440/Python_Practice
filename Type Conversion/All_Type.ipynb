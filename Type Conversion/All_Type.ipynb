{
 "cells": [
  {
   "cell_type": "code",
   "execution_count": 3,
   "id": "7ab0db9b-5927-48bb-a22a-34bcbcc96fe6",
   "metadata": {},
   "outputs": [
    {
     "name": "stdout",
     "output_type": "stream",
     "text": [
      "5.0\n",
      "1.0\n",
      "56.0\n"
     ]
    }
   ],
   "source": [
    "#Only Float Conversion\n",
    "print(float(5))\n",
    "print(float(True))\n",
    "print(float(\"56\"))"
   ]
  },
  {
   "cell_type": "code",
   "execution_count": 6,
   "id": "4176cd53-c960-4d4f-b36b-705e8a9a78e0",
   "metadata": {},
   "outputs": [
    {
     "name": "stdout",
     "output_type": "stream",
     "text": [
      "(45+0j)\n",
      "(45.5+0j)\n",
      "(1+0j)\n",
      "(45+0j)\n",
      "0j\n"
     ]
    }
   ],
   "source": [
    "#only Complex Conversion\n",
    "print(complex(45))\n",
    "print(complex(45.5))\n",
    "print(complex(True))\n",
    "print(complex(\"45\"))\n",
    "print(complex(False))"
   ]
  },
  {
   "cell_type": "code",
   "execution_count": 8,
   "id": "d36fa099-83d6-4431-a4e2-7929604a3137",
   "metadata": {},
   "outputs": [
    {
     "name": "stdout",
     "output_type": "stream",
     "text": [
      "34\n",
      "34.56\n",
      "(45+3j)\n",
      "True\n",
      "False\n"
     ]
    }
   ],
   "source": [
    "#Only String Conversion\n",
    "print(str(34))\n",
    "print(str(34.56))\n",
    "print(str(45+3j))\n",
    "print(str(True))\n",
    "print(str(False))\n",
    "\n"
   ]
  }
 ],
 "metadata": {
  "kernelspec": {
   "display_name": "Python 3 (ipykernel)",
   "language": "python",
   "name": "python3"
  },
  "language_info": {
   "codemirror_mode": {
    "name": "ipython",
    "version": 3
   },
   "file_extension": ".py",
   "mimetype": "text/x-python",
   "name": "python",
   "nbconvert_exporter": "python",
   "pygments_lexer": "ipython3",
   "version": "3.11.0"
  }
 },
 "nbformat": 4,
 "nbformat_minor": 5
}
