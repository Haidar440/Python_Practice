{
 "cells": [
  {
   "cell_type": "code",
   "execution_count": 4,
   "id": "ac9fb042-742e-4b00-be4f-13ab13839659",
   "metadata": {},
   "outputs": [
    {
     "data": {
      "text/plain": [
       "{1, 3, 5, 56, 'Python', 'fffj'}"
      ]
     },
     "execution_count": 4,
     "metadata": {},
     "output_type": "execute_result"
    }
   ],
   "source": [
    "set_1 = {1,3,5,56,\"Python\"}\n",
    "set_1.add(\"fffj\")\n",
    "set_1"
   ]
  },
  {
   "cell_type": "code",
   "execution_count": 7,
   "id": "005a9744-7373-4864-96a2-0e99b26b0c5a",
   "metadata": {},
   "outputs": [
    {
     "data": {
      "text/plain": [
       "{3, 4, 'fddd', 'python'}"
      ]
     },
     "execution_count": 7,
     "metadata": {},
     "output_type": "execute_result"
    }
   ],
   "source": [
    "set2 = {3,4,\"python\"}\n",
    "set2.add(\"fddd\")\n",
    "set2"
   ]
  },
  {
   "cell_type": "code",
   "execution_count": 38,
   "id": "cfaab266-3bea-4db7-bc4c-ef6769d5eb15",
   "metadata": {},
   "outputs": [
    {
     "data": {
      "text/plain": [
       "{9.5, 'a'}"
      ]
     },
     "execution_count": 38,
     "metadata": {},
     "output_type": "execute_result"
    }
   ],
   "source": [
    "value_set = {2,\"python\",'a',9.5}\n",
    "value_set.remove(\"python\")\n",
    "value_set.discard(2)\n",
    "value_set"
   ]
  },
  {
   "cell_type": "code",
   "execution_count": 2,
   "id": "46de2bec-9997-48d6-b456-c9cfb9fc7eb2",
   "metadata": {},
   "outputs": [
    {
     "name": "stdin",
     "output_type": "stream",
     "text": [
      " 4\n",
      " 34 \n",
      " 67\n",
      " 34\n",
      " 23\n"
     ]
    },
    {
     "data": {
      "text/plain": [
       "{23, 34, 67}"
      ]
     },
     "execution_count": 2,
     "metadata": {},
     "output_type": "execute_result"
    }
   ],
   "source": [
    "value_set = set()\n",
    "n = int(input())\n",
    "for i in range(n):\n",
    "    value_set.add(int(input()))\n",
    "\n",
    "value_set"
   ]
  },
  {
   "cell_type": "code",
   "execution_count": 5,
   "id": "b42cd498-041f-4d1f-919a-2c7c9d2ddbc8",
   "metadata": {},
   "outputs": [
    {
     "name": "stdin",
     "output_type": "stream",
     "text": [
      " 24\n"
     ]
    },
    {
     "name": "stdout",
     "output_type": "stream",
     "text": [
      "It is not present in the set\n"
     ]
    }
   ],
   "source": [
    "value_set ={6,12,26,10}\n",
    "element = int(input())\n",
    "if element in value_set:\n",
    "    print(\"It is Present in the set\")\n",
    "else:    \n",
    "    print(\"It is not present in the set\")"
   ]
  },
  {
   "cell_type": "code",
   "execution_count": 31,
   "id": "6ed489c4-5570-42c3-8ffa-987594f50ecf",
   "metadata": {},
   "outputs": [
    {
     "data": {
      "text/plain": [
       "{23, 3, 44, 45, 56, 58, 61, 'Ali', 'haidar'}"
      ]
     },
     "execution_count": 31,
     "metadata": {},
     "output_type": "execute_result"
    }
   ],
   "source": [
    "## Operation on Set\n",
    "set1 = {3,44,56,\"haidar\"}\n",
    "set2 = {58,45,61,23,\"Ali\",56,3}\n",
    "# unique_set = set1.union(set2)\n",
    "set3"
   ]
  },
  {
   "cell_type": "code",
   "execution_count": 33,
   "id": "2354eb85-46bc-4b46-bbbb-30b524bee308",
   "metadata": {},
   "outputs": [
    {
     "data": {
      "text/plain": [
       "{23, 3, 44, 45, 56, 58, 61, 'Ali', 'haidar'}"
      ]
     },
     "execution_count": 33,
     "metadata": {},
     "output_type": "execute_result"
    }
   ],
   "source": [
    "set1|set2"
   ]
  },
  {
   "cell_type": "code",
   "execution_count": 32,
   "id": "7bc96a34-be70-41cc-a1ca-39a6f2b2bb8f",
   "metadata": {},
   "outputs": [
    {
     "data": {
      "text/plain": [
       "{3, 56}"
      ]
     },
     "execution_count": 32,
     "metadata": {},
     "output_type": "execute_result"
    }
   ],
   "source": [
    "common_set = set1.intersection(set2)\n",
    "common_set"
   ]
  },
  {
   "cell_type": "code",
   "execution_count": 34,
   "id": "0397715b-7c4f-4d01-be81-719d066d5815",
   "metadata": {},
   "outputs": [
    {
     "data": {
      "text/plain": [
       "{3, 56}"
      ]
     },
     "execution_count": 34,
     "metadata": {},
     "output_type": "execute_result"
    }
   ],
   "source": [
    "common_set = set1 & set2\n",
    "common_set"
   ]
  },
  {
   "cell_type": "code",
   "execution_count": 36,
   "id": "6aef6181-ed40-419e-8229-3ddf25af83e8",
   "metadata": {},
   "outputs": [
    {
     "data": {
      "text/plain": [
       "{44, 'haidar'}"
      ]
     },
     "execution_count": 36,
     "metadata": {},
     "output_type": "execute_result"
    }
   ],
   "source": [
    "diff1 = set1 - set2\n",
    "diff1"
   ]
  },
  {
   "cell_type": "code",
   "execution_count": 37,
   "id": "b19bd041-1fd8-422a-a8c9-867aa93d6363",
   "metadata": {},
   "outputs": [
    {
     "data": {
      "text/plain": [
       "{23, 45, 58, 61, 'Ali'}"
      ]
     },
     "execution_count": 37,
     "metadata": {},
     "output_type": "execute_result"
    }
   ],
   "source": [
    "diff2 = set2 - set1\n",
    "diff2"
   ]
  },
  {
   "cell_type": "code",
   "execution_count": 38,
   "id": "04fd7d8e-59ee-496f-ac3c-f88fc59e5d7c",
   "metadata": {},
   "outputs": [
    {
     "data": {
      "text/plain": [
       "{44, 'haidar'}"
      ]
     },
     "execution_count": 38,
     "metadata": {},
     "output_type": "execute_result"
    }
   ],
   "source": [
    "diff_f = set1.difference(set2)\n",
    "diff_fv"
   ]
  },
  {
   "cell_type": "code",
   "execution_count": 1,
   "id": "17cc83dd-04ad-455f-a09d-f087d3171f76",
   "metadata": {},
   "outputs": [
    {
     "data": {
      "text/plain": [
       "True"
      ]
     },
     "execution_count": 1,
     "metadata": {},
     "output_type": "execute_result"
    }
   ],
   "source": [
    "month1_set = {\"jan\",\"feb\",\"dec\",\"mar\"}\n",
    "month2_set = {\"jan\",'feb',}\n",
    "month1_set > month2_set"
   ]
  },
  {
   "cell_type": "code",
   "execution_count": 3,
   "id": "1bbc221b-15e9-43e4-8229-a301daa87f79",
   "metadata": {},
   "outputs": [
    {
     "data": {
      "text/plain": [
       "False"
      ]
     },
     "execution_count": 3,
     "metadata": {},
     "output_type": "execute_result"
    }
   ],
   "source": [
    "month1_set < month2_set"
   ]
  },
  {
   "cell_type": "code",
   "execution_count": 4,
   "id": "37eca098-ce83-4764-90c4-46460bdb26e1",
   "metadata": {},
   "outputs": [
    {
     "data": {
      "text/plain": [
       "False"
      ]
     },
     "execution_count": 4,
     "metadata": {},
     "output_type": "execute_result"
    }
   ],
   "source": [
    "month1_set == month2_set"
   ]
  },
  {
   "cell_type": "code",
   "execution_count": null,
   "id": "02bdd228-b7ea-4918-aca0-41ceeb264890",
   "metadata": {},
   "outputs": [],
   "source": []
  }
 ],
 "metadata": {
  "kernelspec": {
   "display_name": "Python 3 (ipykernel)",
   "language": "python",
   "name": "python3"
  },
  "language_info": {
   "codemirror_mode": {
    "name": "ipython",
    "version": 3
   },
   "file_extension": ".py",
   "mimetype": "text/x-python",
   "name": "python",
   "nbconvert_exporter": "python",
   "pygments_lexer": "ipython3",
   "version": "3.11.0"
  }
 },
 "nbformat": 4,
 "nbformat_minor": 5
}
