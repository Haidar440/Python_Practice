{
 "cells": [
  {
   "cell_type": "code",
   "execution_count": 44,
   "id": "5acf6698-6f28-45f5-ba4e-05907611b2b5",
   "metadata": {},
   "outputs": [
    {
     "name": "stdout",
     "output_type": "stream",
     "text": [
      "34\n"
     ]
    }
   ],
   "source": [
    "def sum_of_all_number(start,end):\n",
    "    i = start\n",
    "    result=0\n",
    "    while i!=end+1:\n",
    "        result = i + result\n",
    "        i+=1\n",
    "    return result\n",
    "\n",
    "print(sum_of_all_number(7,10))"
   ]
  },
  {
   "cell_type": "code",
   "execution_count": null,
   "id": "5d2cc2e6-86c4-4aad-817e-11aa634e71c6",
   "metadata": {},
   "outputs": [],
   "source": []
  }
 ],
 "metadata": {
  "kernelspec": {
   "display_name": "Python 3 (ipykernel)",
   "language": "python",
   "name": "python3"
  },
  "language_info": {
   "codemirror_mode": {
    "name": "ipython",
    "version": 3
   },
   "file_extension": ".py",
   "mimetype": "text/x-python",
   "name": "python",
   "nbconvert_exporter": "python",
   "pygments_lexer": "ipython3",
   "version": "3.11.0"
  }
 },
 "nbformat": 4,
 "nbformat_minor": 5
}
