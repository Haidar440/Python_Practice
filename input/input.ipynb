{
 "cells": [
  {
   "cell_type": "code",
   "execution_count": null,
   "metadata": {},
   "outputs": [],
   "source": [
    "x = int(input(\"enter a number\"))\n",
    "y = int(input(\"enter a number2\"))\n",
    "print(x+y)\n",
    "print(x-y)"
   ]
  },
  {
   "cell_type": "code",
   "execution_count": null,
   "metadata": {},
   "outputs": [],
   "source": [
    "x = int(input(\"enter a number\"))\n",
    "y = int(input(\"enter a number2\"))\n",
    " \n",
    "print(\"Given Numerator::\",x)\n",
    "print(\"Given Denominator::\",y)\n",
    "print(f\"Quotient=,{x//y} Remainder={x%y}\")"
   ]
  },
  {
   "cell_type": "code",
   "execution_count": null,
   "metadata": {},
   "outputs": [],
   "source": [
    "sum(10,40)"
   ]
  },
  {
   "cell_type": "code",
   "execution_count": 10,
   "metadata": {},
   "outputs": [
    {
     "name": "stdout",
     "output_type": "stream",
     "text": [
      "70.65\n",
      "70.65\n",
      "70.65\n"
     ]
    }
   ],
   "source": [
    "PI  = 3.14\n",
    "radius = 45\n",
    "angle = 90\n",
    "result =  2*PI*radius*(angle/360)\n",
    "print(\"%.2f\"%result) \n",
    "print(\"{:.2f}\".format(result)) \n",
    "print(f\"{result:.2f}\")"
   ]
  },
  {
   "cell_type": "code",
   "execution_count": 24,
   "metadata": {},
   "outputs": [
    {
     "name": "stdout",
     "output_type": "stream",
     "text": [
      "radius of circle is::19.62\n"
     ]
    }
   ],
   "source": [
    "dia = int(input(\"enter diameter of circle\"))\n",
    "PI = 3.14\n",
    "radius = dia / 2\n",
    "area_of_circle = PI * radius**2\n",
    "print(f\"radius of circle is::{area_of_circle:.2f}\")"
   ]
  },
  {
   "cell_type": "code",
   "execution_count": 33,
   "metadata": {},
   "outputs": [
    {
     "name": "stdout",
     "output_type": "stream",
     "text": [
      "Hypothesis::7.07\n"
     ]
    }
   ],
   "source": [
    "import math\n",
    "\n",
    "side1 = int(input(\"Enter a number\"))\n",
    "side2 = int(input(\"Enter a number\"))\n",
    "# cal = (side1**2)+(side2**2)\n",
    "hypo = math.sqrt((side1**2)+(side2**2))\n",
    "print(f\"Hypotenuse::{hypo:.2f}\")"
   ]
  },
  {
   "cell_type": "code",
   "execution_count": 35,
   "metadata": {},
   "outputs": [
    {
     "name": "stdout",
     "output_type": "stream",
     "text": [
      "Circumfernce of a Circle=62.80\n"
     ]
    }
   ],
   "source": [
    "radius = int(input(\"enter a radius of circle\"))\n",
    "PI = 3.14\n",
    "print(f\"Circumfernce of a Circle={2*PI*radius:.2f}\")"
   ]
  }
 ],
 "metadata": {
  "kernelspec": {
   "display_name": "Python 3",
   "language": "python",
   "name": "python3"
  },
  "language_info": {
   "codemirror_mode": {
    "name": "ipython",
    "version": 3
   },
   "file_extension": ".py",
   "mimetype": "text/x-python",
   "name": "python",
   "nbconvert_exporter": "python",
   "pygments_lexer": "ipython3",
   "version": "3.11.0"
  }
 },
 "nbformat": 4,
 "nbformat_minor": 2
}
