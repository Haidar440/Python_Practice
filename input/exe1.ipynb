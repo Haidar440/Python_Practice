{
 "cells": [
  {
   "cell_type": "code",
   "execution_count": null,
   "metadata": {},
   "outputs": [],
   "source": [
    "a = 10\n",
    "b = 20\n",
    "\n",
    "a, b = b,a\n",
    "print(a,b)"
   ]
  },
  {
   "cell_type": "code",
   "execution_count": 28,
   "metadata": {},
   "outputs": [
    {
     "name": "stdout",
     "output_type": "stream",
     "text": [
      "25\n",
      "20 5\n"
     ]
    }
   ],
   "source": [
    "a = 5\n",
    "b = 20\n",
    "a = a + b\n",
    "print(a)\n",
    "b = a - b\n",
    "a = a- b\n",
    "print(a,b)"
   ]
  },
  {
   "cell_type": "code",
   "execution_count": 6,
   "metadata": {},
   "outputs": [
    {
     "name": "stdout",
     "output_type": "stream",
     "text": [
      "20 10\n"
     ]
    }
   ],
   "source": [
    "a = 10\n",
    "b = 20\n",
    "temp = a\n",
    "a = b\n",
    "b = temp\n",
    "\n",
    "print(a,b)"
   ]
  },
  {
   "cell_type": "code",
   "execution_count": 22,
   "metadata": {},
   "outputs": [
    {
     "data": {
      "text/plain": [
       "(7, 45)"
      ]
     },
     "execution_count": 22,
     "metadata": {},
     "output_type": "execute_result"
    }
   ],
   "source": [
    "a  = 45\n",
    "b  = 7\n",
    "a = a * b\n",
    "b = a//b\n",
    "a = a//b\n",
    "a, b"
   ]
  },
  {
   "cell_type": "code",
   "execution_count": 36,
   "metadata": {},
   "outputs": [
    {
     "name": "stdout",
     "output_type": "stream",
     "text": [
      "17\n"
     ]
    },
    {
     "data": {
      "text/plain": [
       "(5, 20)"
      ]
     },
     "execution_count": 36,
     "metadata": {},
     "output_type": "execute_result"
    }
   ],
   "source": [
    "a = 20\n",
    "b = 5\n",
    "a = a ^ b\n",
    "print(a)\n",
    "b = a ^ b\n",
    "a =  a ^b\n",
    "a,b"
   ]
  },
  {
   "cell_type": "code",
   "execution_count": null,
   "metadata": {},
   "outputs": [],
   "source": [
    "Celsius = int(input(\"Enter Celsius\"))\n",
    "Fahrenheit = Celsius*9/5+32\n",
    "kel = Celsius+273.15\n",
    "print(\"Fahrenheit is\", Fahrenheit)\n",
    "print(\"Kelvin is\", kel)"
   ]
  },
  {
   "cell_type": "code",
   "execution_count": 12,
   "metadata": {},
   "outputs": [
    {
     "name": "stdout",
     "output_type": "stream",
     "text": [
      "100.0\n"
     ]
    },
    {
     "data": {
      "text/plain": [
       "7.5"
      ]
     },
     "execution_count": 12,
     "metadata": {},
     "output_type": "execute_result"
    }
   ],
   "source": [
    "x = 5*99*(3+0.7)*8/2\n",
    "x\n",
    "z = (7*3+4)*(8/2)\n",
    "print(z)\n",
    "\n",
    "5*6/4"
   ]
  },
  {
   "cell_type": "markdown",
   "metadata": {},
   "source": [
    "| **Operator**           | **Description**                    | **Precedence** | **Associativity**   |\n",
    "|------------------------|------------------------------------|----------------|---------------------|\n",
    "| `()`                   | Parentheses (grouping)             | Highest        | N/A (evaluated first)|\n",
    "| `**`                   | Exponentiation (in Python)         | 2nd            | Right-to-left       |\n",
    "| `*`, `/`, `%`          | Multiplication, Division, Modulus  | 3rd            | Left-to-right       |\n",
    "| `+`, `-`               | Addition, Subtraction              | 4th            | Left-to-right       |\n",
    "| `<<`, `>>`             | Bitwise shift                      | 5th            | Left-to-right       |\n",
    "| `<`, `<=`, `>`, `>=`   | Comparison                         | 6th            | Left-to-right       |\n",
    "| `==`, `!=`             | Equality                           | 7th            | Left-to-right       |\n",
    "| `&`                    | Bitwise AND                        | 8th            | Left-to-right       |\n",
    "| `^`                    | Bitwise XOR                        | 9th            | Left-to-right       |\n",
    "| `|`                    | Bitwise OR                         | 10th           | Left-to-right       |\n",
    "| `&&`                   | Logical AND (in languages like C)  | 11th           | Left-to-right       |\n",
    "| `||`                   | Logical OR (in languages like C)   | 12th           | Left-to-right       |\n",
    "| `=`                    | Assignment                         | Lowest         | Right-to-left       |\n"
   ]
  },
  {
   "cell_type": "markdown",
   "metadata": {},
   "source": []
  },
  {
   "cell_type": "markdown",
   "metadata": {},
   "source": [
    "Mani, Arun, and Kumar were very close friends at school. They were very good in Mathematics and were the pets of Ranjani Ma'am. Mani, Arun, and Kumar live in the same locality and their gang was known as 3 - Psychos. A new student Logan joins their class and he wanted to be friends with the 3 - Psychos. Logan asked Arun about his home address. Arun wanted to test Logan's mathematical skills and hence told that his house is at the midpoint of the line joining Mani's house and Kumar's house. Logan was puzzled. Can you help Logan out? Given the coordinates of the 2 endpoints of a line (x1,y1) and (x2,y2). Write a program to find the midpoint of the line.\n"
   ]
  },
  {
   "cell_type": "code",
   "execution_count": 33,
   "metadata": {},
   "outputs": [
    {
     "name": "stdout",
     "output_type": "stream",
     "text": [
      "6.0 9.5\n"
     ]
    }
   ],
   "source": [
    " "
   ]
  },
  {
   "cell_type": "code",
   "execution_count": 35,
   "metadata": {},
   "outputs": [
    {
     "data": {
      "text/plain": [
       "7.666666666666667"
      ]
     },
     "execution_count": 35,
     "metadata": {},
     "output_type": "execute_result"
    }
   ],
   "source": [
    "h = 3\n",
    "weight = 69\n",
    "BMI = weight / h**2\n",
    "BMI\n",
    "\n"
   ]
  }
 ],
 "metadata": {
  "kernelspec": {
   "display_name": "Python 3",
   "language": "python",
   "name": "python3"
  },
  "language_info": {
   "codemirror_mode": {
    "name": "ipython",
    "version": 3
   },
   "file_extension": ".py",
   "mimetype": "text/x-python",
   "name": "python",
   "nbconvert_exporter": "python",
   "pygments_lexer": "ipython3",
   "version": "3.11.0"
  }
 },
 "nbformat": 4,
 "nbformat_minor": 2
}
