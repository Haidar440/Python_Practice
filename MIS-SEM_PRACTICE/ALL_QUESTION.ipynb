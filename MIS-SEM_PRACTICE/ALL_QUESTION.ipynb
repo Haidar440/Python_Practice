{
 "cells": [
  {
   "cell_type": "code",
   "execution_count": 4,
   "id": "02a23778-b51b-47ec-b565-e16db99480cc",
   "metadata": {},
   "outputs": [
    {
     "data": {
      "text/plain": [
       "'llew si lla'"
      ]
     },
     "execution_count": 4,
     "metadata": {},
     "output_type": "execute_result"
    }
   ],
   "source": [
    "x = \"all is well\"\n",
    "# reverse_string = x[::-1]\n",
    "string_rev= \"\"\n",
    "for i in x:\n",
    "    string_rev=i+string_rev\n",
    "    \n",
    "# reverse_string\n",
    "string_rev"
   ]
  },
  {
   "cell_type": "code",
   "execution_count": 6,
   "id": "ce582467-49d1-45d0-bdfb-91ca49190a1f",
   "metadata": {},
   "outputs": [
    {
     "name": "stdin",
     "output_type": "stream",
     "text": [
      "Enter your Favorite Color yellow\n",
      "Enter any Decimal Value 2.2\n"
     ]
    },
    {
     "name": "stdout",
     "output_type": "stream",
     "text": [
      "Favorite Color::yellow and square of number::4\n"
     ]
    }
   ],
   "source": [
    "color = input(\"Enter your Favorite Color\")\n",
    "decimal_value = float(input(\"Enter any Decimal Value\"))\n",
    "interger_value = int(decimal_value)\n",
    "print(f\"Favorite Color::{color} and square of number::{interger_value**2}\")"
   ]
  },
  {
   "cell_type": "code",
   "execution_count": 9,
   "id": "a840a8f7-d185-423f-bf87-8c8690c80166",
   "metadata": {},
   "outputs": [
    {
     "name": "stdout",
     "output_type": "stream",
     "text": [
      "34 23\n",
      "34 23\n"
     ]
    }
   ],
   "source": [
    "x = 23\n",
    "y = 34\n",
    "\n",
    "# using third variable\n",
    "temp = x\n",
    "x = y\n",
    "y = temp\n",
    "print(x,y)\n",
    "x = 23\n",
    "y = 34\n",
    "# without third variable\n",
    "x,y = y,x\n",
    "print(x,y)"
   ]
  },
  {
   "cell_type": "code",
   "execution_count": 6,
   "id": "ea42ae14-8e7d-481f-9f26-cc3036a55292",
   "metadata": {},
   "outputs": [
    {
     "name": "stdout",
     "output_type": "stream",
     "text": [
      "454\n"
     ]
    }
   ],
   "source": [
    "x = 454\n",
    "y = 56\n",
    "max = x if x>y else y\n",
    "print(max)"
   ]
  },
  {
   "cell_type": "code",
   "execution_count": 5,
   "id": "542b7846-1e75-4e4b-bca7-7a837638e565",
   "metadata": {},
   "outputs": [
    {
     "data": {
      "text/plain": [
       "2340"
      ]
     },
     "execution_count": 5,
     "metadata": {},
     "output_type": "execute_result"
    }
   ],
   "source": [
    "x = 454\n",
    "y = 566\n",
    "z = 2340\n",
    "\n",
    "tem_max = x if x>y else y\n",
    "max_value = tem_max if tem_max>z else z\n",
    "\n",
    "max_value\n",
    "    "
   ]
  },
  {
   "cell_type": "code",
   "execution_count": 47,
   "id": "f435cffe-3949-4653-95df-de5184fa5e70",
   "metadata": {},
   "outputs": [
    {
     "name": "stdout",
     "output_type": "stream",
     "text": [
      "305\n"
     ]
    }
   ],
   "source": [
    "x = 310\n",
    "y = 34\n",
    "z = 305\n",
    "# x = 450\n",
    "# y = 560\n",
    "# z = 34\n",
    "\n",
    "if (x>=y and x<=z) or (x<=y and x>=z):\n",
    "    print(x)\n",
    "elif (y>=x and y<=z) or (y<=x and y>=z):\n",
    "    print(y)\n",
    "else:\n",
    "    print(z)\n"
   ]
  },
  {
   "cell_type": "code",
   "execution_count": 49,
   "id": "10065d13-86c2-47bb-949f-f068e08da963",
   "metadata": {},
   "outputs": [
    {
     "data": {
      "text/plain": [
       "6543"
      ]
     },
     "execution_count": 49,
     "metadata": {},
     "output_type": "execute_result"
    }
   ],
   "source": [
    "x = 3456\n",
    "x = str(x)\n",
    "x = int(x[::-1])\n",
    "x"
   ]
  },
  {
   "cell_type": "code",
   "execution_count": 72,
   "id": "7260ebab-54a5-4051-835f-1c06189d4927",
   "metadata": {},
   "outputs": [
    {
     "name": "stdout",
     "output_type": "stream",
     "text": [
      "2\n",
      "2\n"
     ]
    },
    {
     "data": {
      "text/plain": [
       "1"
      ]
     },
     "execution_count": 72,
     "metadata": {},
     "output_type": "execute_result"
    }
   ],
   "source": [
    "x = 2\n",
    "y = 4\n",
    "z =3\n",
    "a= 1\n",
    "temp_small = x if x<=y else y\n",
    "print(temp_small)\n",
    "temp_small = temp_small if temp_small<=z else z\n",
    "print(temp_small)\n",
    "temp_small = temp_small if temp_small<=a else a\n",
    "temp_small"
   ]
  },
  {
   "cell_type": "code",
   "execution_count": 94,
   "id": "ce76ab9b-2e25-4e44-8211-dd7f47f739a9",
   "metadata": {},
   "outputs": [
    {
     "name": "stdin",
     "output_type": "stream",
     "text": [
      "Enter a your number 36\n"
     ]
    },
    {
     "name": "stdout",
     "output_type": "stream",
     "text": [
      "prefect\n"
     ]
    }
   ],
   "source": [
    "n = int(input(\"Enter a your number\"))\n",
    "sqr=int(n**0.5) ** 2\n",
    "if n>0:\n",
    "    if sqr == n:\n",
    "        print(\"prefect\")\n",
    "    else:\n",
    "        print(\"not prefect\")\n",
    "    \n",
    "    "
   ]
  },
  {
   "cell_type": "code",
   "execution_count": 101,
   "id": "a205bf42-80cf-4e17-8c54-85b2569b1d85",
   "metadata": {},
   "outputs": [
    {
     "name": "stdin",
     "output_type": "stream",
     "text": [
      "Enter any chararcter g\n"
     ]
    },
    {
     "name": "stdout",
     "output_type": "stream",
     "text": [
      "Consonants\n"
     ]
    }
   ],
   "source": [
    "ch = input(\"Enter any chararcter\")\n",
    "if ch in \"AEIOUaeiou\":\n",
    "    print(\"vowel\")\n",
    "else:\n",
    "    print(\"Consonants\")"
   ]
  },
  {
   "cell_type": "code",
   "execution_count": 106,
   "id": "51365154-56c9-4c94-a337-4b8d26699ea9",
   "metadata": {},
   "outputs": [
    {
     "name": "stdout",
     "output_type": "stream",
     "text": [
      "49\n"
     ]
    }
   ],
   "source": [
    "a =10\n",
    "b = 4\n",
    "sum=0\n",
    "while a>=b:\n",
    "    sum+=b\n",
    "    b+=1\n",
    "\n",
    "print(sum)\n",
    "    "
   ]
  },
  {
   "cell_type": "code",
   "execution_count": 109,
   "id": "f4349f11-a123-44f4-b94f-e97758048ad9",
   "metadata": {},
   "outputs": [
    {
     "name": "stdout",
     "output_type": "stream",
     "text": [
      "Numbers between 40 and 10 (inclusive):\n"
     ]
    }
   ],
   "source": [
    "# Assign values to a and b\n",
    "a = 40\n",
    "b = 10\n",
    "\n",
    "# Check if a is greater than or equal to b\n",
    "if a >= b:\n",
    "    print(f\"Numbers between {a} and {b} (inclusive):\")\n",
    "    \n",
    "    # Initialize a variable to start from a\n",
    "    current = a\n",
    "    \n",
    "    # Use a while loop to print all numbers from a to b\n",
    "    while current <= b:\n",
    "        print(current)\n",
    "        current += 1  # Increment current by 1\n",
    "else:\n",
    "    print(\"Error: a should be greater than or equal to b.\")\n"
   ]
  },
  {
   "cell_type": "code",
   "execution_count": 112,
   "id": "fc36b43c-ff8d-4906-af85-7177d7abdc73",
   "metadata": {},
   "outputs": [
    {
     "data": {
      "text/plain": [
       "6"
      ]
     },
     "execution_count": 112,
     "metadata": {},
     "output_type": "execute_result"
    }
   ],
   "source": [
    "n = -234567\n",
    "len(str(abs(n)))"
   ]
  },
  {
   "cell_type": "code",
   "execution_count": 121,
   "id": "6925ab66-329b-4004-9de7-2b589b71c635",
   "metadata": {},
   "outputs": [
    {
     "name": "stdin",
     "output_type": "stream",
     "text": [
      " 4\n"
     ]
    },
    {
     "name": "stdout",
     "output_type": "stream",
     "text": [
      "Positve and even\n"
     ]
    }
   ],
   "source": [
    "n = int(input())\n",
    "if n>0:\n",
    "    if n%2==0:\n",
    "        print(\"Positve and even\")\n",
    "    else:\n",
    "        print(\"Positive and Odd\")\n",
    "else:\n",
    "    if n==0:\n",
    "        print(\"Zero\")\n",
    "    else:\n",
    "        print(\"Negative\")"
   ]
  },
  {
   "cell_type": "code",
   "execution_count": 130,
   "id": "c5428df3-e830-4af2-ba96-2584e395fa4f",
   "metadata": {},
   "outputs": [
    {
     "name": "stdin",
     "output_type": "stream",
     "text": [
      "Enter a the starting number of range 1\n",
      "Enter a end the ending number of range 10\n"
     ]
    },
    {
     "name": "stdout",
     "output_type": "stream",
     "text": [
      "55\n"
     ]
    }
   ],
   "source": [
    "start  = int(input(\"Enter a the starting number of range\"))\n",
    "end = int(input(\"Enter a end the ending number of range\"))\n",
    "\n",
    "total = 0\n",
    "current  = start\n",
    "\n",
    "while current<=end:\n",
    "    total+=current\n",
    "    current+=1\n",
    "\n",
    "print(total)"
   ]
  },
  {
   "cell_type": "code",
   "execution_count": 7,
   "id": "6509662f-1831-4d8d-9972-813625b86fe8",
   "metadata": {},
   "outputs": [
    {
     "name": "stdin",
     "output_type": "stream",
     "text": [
      " -1\n",
      " 3\n",
      " 4\n"
     ]
    },
    {
     "name": "stdout",
     "output_type": "stream",
     "text": [
      "No\n"
     ]
    }
   ],
   "source": [
    "N = int(input())\n",
    "L = int(input())\n",
    "R = int(input())\n",
    "\n",
    "if (N>=L and N<=R) or (N<=L and N>=R):\n",
    "    print(\"YES\")\n",
    "else:\n",
    "    print(\"No\")"
   ]
  },
  {
   "cell_type": "code",
   "execution_count": 8,
   "id": "41553e15-00ad-452b-81bf-a5a5719b3c92",
   "metadata": {},
   "outputs": [
    {
     "name": "stdin",
     "output_type": "stream",
     "text": [
      " 234\n"
     ]
    },
    {
     "name": "stdout",
     "output_type": "stream",
     "text": [
      "3\n",
      "0\n"
     ]
    }
   ],
   "source": [
    "string = input()\n",
    "\n",
    "number_count = 0\n",
    "alphabet_count = 0\n",
    "for i in string:\n",
    "    if i.isdigit():\n",
    "        number_count+=1\n",
    "    elif i.isalpha():\n",
    "        alphabet_count+=1\n",
    "\n",
    "print(number_count)\n",
    "print(alphabet_count)\n",
    "        "
   ]
  },
  {
   "cell_type": "code",
   "execution_count": 9,
   "id": "c670b303-1300-47e3-a10b-9670519677e3",
   "metadata": {},
   "outputs": [
    {
     "name": "stdout",
     "output_type": "stream",
     "text": [
      "45\n"
     ]
    }
   ],
   "source": [
    "def sum_of_all_numbers(start,end):\n",
    "    total = 0\n",
    "    for i in range(start,end+1):\n",
    "        total+=i\n",
    "    return total\n",
    "\n",
    "print(sum_of_all_numbers(5,10))"
   ]
  },
  {
   "cell_type": "code",
   "execution_count": 10,
   "id": "8ae59cb7-2f0a-4f8f-a8e3-60b324f71540",
   "metadata": {},
   "outputs": [
    {
     "name": "stdin",
     "output_type": "stream",
     "text": [
      " -1\n"
     ]
    },
    {
     "name": "stdout",
     "output_type": "stream",
     "text": [
      "Error\n"
     ]
    }
   ],
   "source": [
    "def factorial(num):\n",
    "    fact=1\n",
    "    for i in range(1,num+1):\n",
    "        fact = fact*i\n",
    "    return fact\n",
    "\n",
    "n = int(input())\n",
    "\n",
    "if n<0:\n",
    "    print(\"Error\")\n",
    "else:\n",
    "    print(factorial(n))"
   ]
  },
  {
   "cell_type": "code",
   "execution_count": 174,
   "id": "626ea295-2cb0-4fd5-83ac-44ff34401245",
   "metadata": {},
   "outputs": [
    {
     "name": "stdout",
     "output_type": "stream",
     "text": [
      "Orginal List:: [1, 3, 4, 5, 56, 6, 56, 3, 3, 6]\n",
      "Distinct List:: [1, 3, 4, 5, 56, 6]\n"
     ]
    }
   ],
   "source": [
    "def distinct_list(list_values):\n",
    "    list_new = []\n",
    "    for i in list_values:\n",
    "        if i not in list_new:\n",
    "            list_new.append(i)\n",
    "    return list_new \n",
    "l = [1,3,4,5,56,6,56,3,3,6]\n",
    "print(\"Orginal List::\",l)\n",
    "print(\"Distinct List::\",distinct_list(l))"
   ]
  }
 ],
 "metadata": {
  "kernelspec": {
   "display_name": "Python 3 (ipykernel)",
   "language": "python",
   "name": "python3"
  },
  "language_info": {
   "codemirror_mode": {
    "name": "ipython",
    "version": 3
   },
   "file_extension": ".py",
   "mimetype": "text/x-python",
   "name": "python",
   "nbconvert_exporter": "python",
   "pygments_lexer": "ipython3",
   "version": "3.11.0"
  }
 },
 "nbformat": 4,
 "nbformat_minor": 5
}
