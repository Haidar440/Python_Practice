{
 "cells": [
  {
   "cell_type": "code",
   "execution_count": 1,
   "id": "54e2f5cd-dbf8-4968-a164-df542eff4745",
   "metadata": {},
   "outputs": [
    {
     "data": {
      "text/plain": [
       "(26, 45, 'hello', 7.5)"
      ]
     },
     "execution_count": 1,
     "metadata": {},
     "output_type": "execute_result"
    }
   ],
   "source": [
    "value_tuple = (26,45,'hello',7.5)\n",
    "value_tuple "
   ]
  },
  {
   "cell_type": "code",
   "execution_count": 4,
   "id": "0f1074c7-fa89-4b3d-9199-2f7010f85658",
   "metadata": {},
   "outputs": [
    {
     "ename": "TypeError",
     "evalue": "'tuple' object does not support item assignment",
     "output_type": "error",
     "traceback": [
      "\u001b[1;31m---------------------------------------------------------------------------\u001b[0m",
      "\u001b[1;31mTypeError\u001b[0m                                 Traceback (most recent call last)",
      "Cell \u001b[1;32mIn[4], line 1\u001b[0m\n\u001b[1;32m----> 1\u001b[0m \u001b[43mvalue_tuple\u001b[49m\u001b[43m[\u001b[49m\u001b[38;5;241;43m2\u001b[39;49m\u001b[43m]\u001b[49m \u001b[38;5;241m=\u001b[39m \u001b[38;5;124m\"\u001b[39m\u001b[38;5;124mpython\u001b[39m\u001b[38;5;124m\"\u001b[39m\n",
      "\u001b[1;31mTypeError\u001b[0m: 'tuple' object does not support item assignment"
     ]
    }
   ],
   "source": [
    "value_tuple[2] = \"python\""
   ]
  },
  {
   "cell_type": "code",
   "execution_count": 5,
   "id": "7568dc18-3f3b-4a38-a2a6-12f7110de22f",
   "metadata": {},
   "outputs": [
    {
     "data": {
      "text/plain": [
       "(26, 45, 'hello', 7.5, 34, 56, 5, 3)"
      ]
     },
     "execution_count": 5,
     "metadata": {},
     "output_type": "execute_result"
    }
   ],
   "source": [
    "value_tuple2 = (34,56,5,3)\n",
    "value_tuple3 = value_tuple + value_tuple2\n",
    "value_tuple3"
   ]
  },
  {
   "cell_type": "code",
   "execution_count": 6,
   "id": "219ed549-23be-4a2f-afc6-e995a781d88e",
   "metadata": {},
   "outputs": [
    {
     "data": {
      "text/plain": [
       "((26, 45, 'hello', 7.5), (34, 56, 5, 3))"
      ]
     },
     "execution_count": 6,
     "metadata": {},
     "output_type": "execute_result"
    }
   ],
   "source": [
    "value_tuple2 = (34,56,5,3)\n",
    "value_tuple3 = value_tuple ,value_tuple2\n",
    "value_tuple3"
   ]
  },
  {
   "cell_type": "code",
   "execution_count": 65,
   "id": "c91283eb-053d-41d2-8418-39646e0b38b6",
   "metadata": {},
   "outputs": [
    {
     "data": {
      "text/plain": [
       "(34, 56, 5, 3, 'Haidar', 'Haidar', 'Haidar', 'Haidar')"
      ]
     },
     "execution_count": 65,
     "metadata": {},
     "output_type": "execute_result"
    }
   ],
   "source": [
    "value_tuple2 = value_tuple2+(\"Haidar\",)\n",
    "value_tuple2"
   ]
  },
  {
   "cell_type": "code",
   "execution_count": 69,
   "id": "4a07a3d1-563d-4577-89fc-319f7eb39096",
   "metadata": {},
   "outputs": [
    {
     "data": {
      "text/plain": [
       "(34, 56, 5, 3, 'Haidar', 'Haidar', 'Haidar', 'Haidar', 7, 7, 7, 7)"
      ]
     },
     "execution_count": 69,
     "metadata": {},
     "output_type": "execute_result"
    }
   ],
   "source": [
    "tuple_to_list = list(value_tuple2)\n",
    "tuple_to_list.append(7)\n",
    "value_tuple2=tuple(tuple_to_list)\n",
    "value_tuple2"
   ]
  },
  {
   "cell_type": "code",
   "execution_count": 71,
   "id": "234c0137-fff3-4d56-a5b0-b566ab37fb76",
   "metadata": {},
   "outputs": [
    {
     "data": {
      "text/plain": [
       "('Haidar', 6.7, 34, 'Haidar', 6.7, 34)"
      ]
     },
     "execution_count": 71,
     "metadata": {},
     "output_type": "execute_result"
    }
   ],
   "source": [
    "value_multiple = (\"Haidar\",6.7,34)*2\n",
    "value_multiple"
   ]
  },
  {
   "cell_type": "code",
   "execution_count": null,
   "id": "c2610243-95f1-4dea-a927-4f920f6ced11",
   "metadata": {
    "jp-MarkdownHeadingCollapsed": true
   },
   "outputs": [],
   "source": [
    "n = int(input())\n",
    "input_tuple = ()\n",
    "type(input_tuple)\n",
    "for i in range(n):\n",
    "    input_tuple = input_tuple+(input(),)\n",
    "\n",
    "input_tuple"
   ]
  },
  {
   "cell_type": "code",
   "execution_count": null,
   "id": "0eb30fac-48e6-4c59-8009-cf2afbc9d963",
   "metadata": {},
   "outputs": [],
   "source": [
    "\n"
   ]
  },
  {
   "cell_type": "code",
   "execution_count": 78,
   "id": "5aa2e8bf-e965-40cd-9c93-1a960ff22187",
   "metadata": {},
   "outputs": [
    {
     "name": "stdin",
     "output_type": "stream",
     "text": [
      " 3\n",
      " 23\n",
      " 1223\n",
      " 1\n"
     ]
    },
    {
     "data": {
      "text/plain": [
       "('23', '1223', '1')"
      ]
     },
     "execution_count": 78,
     "metadata": {},
     "output_type": "execute_result"
    }
   ],
   "source": [
    "n = int(input())\n",
    "list1 = []\n",
    "for i in range(n):\n",
    "    list1.append(input())\n",
    "\n",
    "t1 = tuple(list1)\n",
    "t1"
   ]
  },
  {
   "cell_type": "code",
   "execution_count": 1,
   "id": "adf356b7-fca5-4252-906a-1e448aaa39d9",
   "metadata": {},
   "outputs": [
    {
     "name": "stdout",
     "output_type": "stream",
     "text": [
      "one\n",
      "two\n",
      "Three\n",
      "four\n"
     ]
    }
   ],
   "source": [
    "number = (\"one\",\"two\",\"Three\",\"four\")\n",
    "i = 0\n",
    "while i<len(number):\n",
    "    print(number[i])\n",
    "    i+=1\n",
    "\n"
   ]
  },
  {
   "cell_type": "code",
   "execution_count": 2,
   "id": "254fbe76-6512-404e-97e3-bce29a564ae5",
   "metadata": {},
   "outputs": [
    {
     "name": "stdout",
     "output_type": "stream",
     "text": [
      "one\n",
      "two\n",
      "Three\n",
      "four\n"
     ]
    }
   ],
   "source": [
    "for i in number:\n",
    "    print(i)"
   ]
  },
  {
   "cell_type": "code",
   "execution_count": 12,
   "id": "cb73246e-1334-4219-b946-175130650088",
   "metadata": {},
   "outputs": [
    {
     "name": "stdout",
     "output_type": "stream",
     "text": [
      "45\n",
      "6\n"
     ]
    }
   ],
   "source": [
    "value_tuple = (26,12,10,6,67,91,45,'hello',7.5,99,7,\"name\")\n",
    "\n",
    "for i in range(len(value_tuple)):\n",
    "    if value_tuple[i] == 45:\n",
    "        print(value_tuple[i])\n",
    "        print(i)"
   ]
  },
  {
   "cell_type": "code",
   "execution_count": 14,
   "id": "c286fade-e773-4f30-8add-77ee67ab7f15",
   "metadata": {},
   "outputs": [
    {
     "name": "stdout",
     "output_type": "stream",
     "text": [
      "one two Three four\n"
     ]
    }
   ],
   "source": [
    "a,b,c,d=number\n",
    "print(a,b,c,d)"
   ]
  },
  {
   "cell_type": "code",
   "execution_count": 24,
   "id": "c5c19d80-66b3-4cbc-b538-0eec4fba1f25",
   "metadata": {},
   "outputs": [
    {
     "name": "stdout",
     "output_type": "stream",
     "text": [
      "['one', 'two'] Three four\n"
     ]
    }
   ],
   "source": [
    "(*a,b,c) = number\n",
    "print(a,b,c)"
   ]
  },
  {
   "cell_type": "code",
   "execution_count": 28,
   "id": "a651b198-18f0-4fdf-8e63-8207dd22ed5b",
   "metadata": {},
   "outputs": [
    {
     "name": "stdout",
     "output_type": "stream",
     "text": [
      "1 3\n",
      "1 4\n",
      "2 3\n",
      "2 4\n"
     ]
    }
   ],
   "source": [
    "for x in [1,2]:\n",
    "    for y in [3,4]:\n",
    "        print(x,y)"
   ]
  },
  {
   "cell_type": "code",
   "execution_count": 31,
   "id": "a4cb5aab-54c6-4ada-862e-28785f84e6a5",
   "metadata": {},
   "outputs": [
    {
     "name": "stdout",
     "output_type": "stream",
     "text": [
      "[0, 0, 0]\n",
      "[0, 0, 1]\n",
      "[0, 0, 2]\n",
      "[0, 1, 0]\n",
      "[0, 1, 1]\n",
      "[0, 1, 2]\n",
      "[1, 0, 0]\n",
      "[1, 0, 1]\n",
      "[1, 0, 2]\n",
      "[1, 1, 0]\n",
      "[1, 1, 1]\n",
      "[1, 1, 2]\n"
     ]
    }
   ],
   "source": [
    "# [[0, 0, 0], [0, 0, 1], [0, 1, 0], [1, 0, 0], [1, 1, 1]]\n",
    "# 1x\n",
    "# 1y\n",
    "# 1z\n",
    "l1 = []\n",
    "x = 1\n",
    "y = 1\n",
    "z = 2\n",
    "for i in range(0,x+1):\n",
    " or j in range(0,y+1):\n",
    "        for k in range(   f0,z+1):\n",
    "            print([i,j,k])\n",
    "    "
   ]
  },
  {
   "cell_type": "code",
   "execution_count": 39,
   "id": "56cd08fb-d982-4998-ad2e-8e601bccdae9",
   "metadata": {},
   "outputs": [
    {
     "ename": "SyntaxError",
     "evalue": "invalid syntax (2936541464.py, line 2)",
     "output_type": "error",
     "traceback": [
      "\u001b[1;36m  Cell \u001b[1;32mIn[39], line 2\u001b[1;36m\u001b[0m\n\u001b[1;33m    ,for j in range(0,y+1) /\u001b[0m\n\u001b[1;37m    ^\u001b[0m\n\u001b[1;31mSyntaxError\u001b[0m\u001b[1;31m:\u001b[0m invalid syntax\n"
     ]
    }
   ],
   "source": [
    "list1 = [[i,j,k] for i in range(0,x+1) \n",
    ",for j in range(0,y+1) \n",
    ",for k in range(0,z+1)]"
   ]
  }
 ],
 "metadata": {
  "kernelspec": {
   "display_name": "Python 3 (ipykernel)",
   "language": "python",
   "name": "python3"
  },
  "language_info": {
   "codemirror_mode": {
    "name": "ipython",
    "version": 3
   },
   "file_extension": ".py",
   "mimetype": "text/x-python",
   "name": "python",
   "nbconvert_exporter": "python",
   "pygments_lexer": "ipython3",
   "version": "3.11.0"
  }
 },
 "nbformat": 4,
 "nbformat_minor": 5
}
