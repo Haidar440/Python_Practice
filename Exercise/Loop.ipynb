{
 "cells": [
  {
   "cell_type": "code",
   "execution_count": 1,
   "id": "3546d693-4c9c-4140-b1e1-7655a07c4815",
   "metadata": {},
   "outputs": [
    {
     "name": "stdout",
     "output_type": "stream",
     "text": [
      "1 3 5 7 9 "
     ]
    }
   ],
   "source": [
    "# Print First 10 Odd Natural Number\n",
    "for i in range(1,11):\n",
    "    if i%2!=0:\n",
    "        print(i,end=\" \")"
   ]
  },
  {
   "cell_type": "code",
   "execution_count": 4,
   "id": "149f071b-78c5-4237-b7ff-4943d3586faf",
   "metadata": {},
   "outputs": [
    {
     "name": "stdin",
     "output_type": "stream",
     "text": [
      "enter any number 4\n"
     ]
    },
    {
     "name": "stdout",
     "output_type": "stream",
     "text": [
      "2 4 "
     ]
    }
   ],
   "source": [
    "# Print First N Even Natural Number\n",
    "n = int(input(\"enter any number\"))\n",
    "for i in range(1,n+1):\n",
    "    if i%2==0:\n",
    "        print(i,end=\" \")"
   ]
  },
  {
   "cell_type": "code",
   "execution_count": 6,
   "id": "16e62c68-00fe-40c0-959d-d8041c733b9d",
   "metadata": {},
   "outputs": [
    {
     "name": "stdin",
     "output_type": "stream",
     "text": [
      "enter any number 10\n"
     ]
    },
    {
     "name": "stdout",
     "output_type": "stream",
     "text": [
      "9 7 5 3 1 "
     ]
    }
   ],
   "source": [
    "# Print reserve First N  Odd Natural Number\n",
    "n = int(input(\"enter any number\"))\n",
    "for i in range(n,0,-1):\n",
    "    if i%2!=0:\n",
    "        print(i,end=\" \")\n",
    "\n",
    "#second way to this Program\n",
    "# i=10\n",
    "# while i>=1:\n",
    "#     if i%2!=0:\n",
    "#         print(i,end=\" \")\n",
    "#     i-=1    "
   ]
  },
  {
   "cell_type": "code",
   "execution_count": 7,
   "id": "291d3a62-6b7c-4535-be8d-3ebd054dfced",
   "metadata": {},
   "outputs": [
    {
     "name": "stdin",
     "output_type": "stream",
     "text": [
      "Enter any number 6\n"
     ]
    },
    {
     "name": "stdout",
     "output_type": "stream",
     "text": [
      "1 4 9 16 25 36 "
     ]
    }
   ],
   "source": [
    "# print Square of Given N number\n",
    "n = int(input(\"Enter any number\"))\n",
    "for i in range(1,n+1):\n",
    "    print(i**2,end=\" \")\n",
    "    "
   ]
  },
  {
   "cell_type": "code",
   "execution_count": 8,
   "id": "f55ed7b3-ba7a-4903-8400-fa545ed67833",
   "metadata": {},
   "outputs": [
    {
     "name": "stdin",
     "output_type": "stream",
     "text": [
      "Enter any mumber 10\n"
     ]
    },
    {
     "name": "stdout",
     "output_type": "stream",
     "text": [
      "55\n"
     ]
    }
   ],
   "source": [
    "#Sum of N number\n",
    "n = int(input(\"Enter any mumber\"))\n",
    "sum=0\n",
    "for i in range(1,n+1):\n",
    "    sum+=i\n",
    "print(sum)"
   ]
  },
  {
   "cell_type": "code",
   "execution_count": 13,
   "id": "67597ac3-7321-4bb9-8862-2a786830ebbc",
   "metadata": {},
   "outputs": [
    {
     "name": "stdin",
     "output_type": "stream",
     "text": [
      "Enter any number 10\n"
     ]
    },
    {
     "name": "stdout",
     "output_type": "stream",
     "text": [
      "3628800\n"
     ]
    }
   ],
   "source": [
    "# factorial of N number\n",
    "n = int(input(\"Enter any number\"))\n",
    "i=1\n",
    "fact = 1\n",
    "while i<=n:\n",
    "    fact*=i\n",
    "    i+=1\n",
    "print(fact)"
   ]
  },
  {
   "cell_type": "code",
   "execution_count": 18,
   "id": "143fddbd-80a8-4e87-ac42-1de646f2692a",
   "metadata": {},
   "outputs": [
    {
     "name": "stdin",
     "output_type": "stream",
     "text": [
      "enter any Number 123456789000000000000\n"
     ]
    },
    {
     "name": "stdout",
     "output_type": "stream",
     "text": [
      "21\n"
     ]
    }
   ],
   "source": [
    "n = int(input(\"enter any Number\"))\n",
    "count=0\n",
    "while n!=0:\n",
    "    n//=10\n",
    "    count+=1\n",
    "\n",
    "print(count)"
   ]
  },
  {
   "cell_type": "code",
   "execution_count": 26,
   "id": "05d1fbad-5327-461c-a317-7afdcc4efc68",
   "metadata": {},
   "outputs": [
    {
     "name": "stdin",
     "output_type": "stream",
     "text": [
      "Enter any number 34\n"
     ]
    },
    {
     "name": "stdout",
     "output_type": "stream",
     "text": [
      "7\n"
     ]
    }
   ],
   "source": [
    "n = int(input(\"Enter any number\"))\n",
    "sum=0\n",
    "for i in str(n):\n",
    "    sum+=int(i)\n",
    "\n",
    "print(sum)"
   ]
  },
  {
   "cell_type": "code",
   "execution_count": 48,
   "id": "dd4fd9f1-8cac-4c45-b8c3-15521ee2418c",
   "metadata": {},
   "outputs": [
    {
     "name": "stdin",
     "output_type": "stream",
     "text": [
      "Enter any number 11\n"
     ]
    },
    {
     "name": "stdout",
     "output_type": "stream",
     "text": [
      "Prime\n"
     ]
    }
   ],
   "source": [
    "n = int(input(\"Enter any number\"))\n",
    "i = 2\n",
    "while i<n:\n",
    "    if n%i==0:\n",
    "        print(\"Not Prime\")\n",
    "        break\n",
    "    i+=1\n",
    "else:\n",
    "    print(\"Prime\")\n",
    "     "
   ]
  },
  {
   "cell_type": "code",
   "execution_count": null,
   "id": "8c74f994-c0cd-4e78-860e-b51398f8cf09",
   "metadata": {},
   "outputs": [],
   "source": [
    "n1 = int(input(\"enter any number1\"))\n",
    "n2 = int(input(\"Enter any number2\"))\n"
   ]
  },
  {
   "cell_type": "code",
   "execution_count": 55,
   "id": "8f8222c4-9dbe-46d0-874f-91e3ce67a9e5",
   "metadata": {},
   "outputs": [
    {
     "name": "stdout",
     "output_type": "stream",
     "text": [
      "The minimum of 56 and 34 is: 56\n"
     ]
    }
   ],
   "source": [
    "def find_min(a, b):\n",
    "    # Check if a and b are equal\n",
    "    if a == b:\n",
    "        return a\n",
    "    # Use the modulo operator to determine which is smaller\n",
    "    return a - ((a - b) % (a - b))\n",
    "\n",
    "# Example usage\n",
    "num1 = 56\n",
    "num2 = 34\n",
    "minimum = find_min(num1, num2)\n",
    "print(f\"The minimum of {num1} and {num2} is: {minimum}\")\n"
   ]
  },
  {
   "cell_type": "code",
   "execution_count": 31,
   "id": "3bd41f00-366d-4442-a9db-17ee4ef83d3e",
   "metadata": {},
   "outputs": [
    {
     "name": "stdout",
     "output_type": "stream",
     "text": [
      "56\n"
     ]
    }
   ],
   "source": [
    "l = [35,10,10,1]\n",
    "sum=0\n",
    "for i in l:\n",
    "    sum+=i\n",
    "\n",
    "print(sum)\n",
    "    "
   ]
  }
 ],
 "metadata": {
  "kernelspec": {
   "display_name": "Python 3 (ipykernel)",
   "language": "python",
   "name": "python3"
  },
  "language_info": {
   "codemirror_mode": {
    "name": "ipython",
    "version": 3
   },
   "file_extension": ".py",
   "mimetype": "text/x-python",
   "name": "python",
   "nbconvert_exporter": "python",
   "pygments_lexer": "ipython3",
   "version": "3.11.0"
  }
 },
 "nbformat": 4,
 "nbformat_minor": 5
}
