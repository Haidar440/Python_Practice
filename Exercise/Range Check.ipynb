{
 "cells": [
  {
   "cell_type": "code",
   "execution_count": 21,
   "id": "7d9ef284-028b-4f1a-a655-b95f6e344f41",
   "metadata": {},
   "outputs": [
    {
     "name": "stdin",
     "output_type": "stream",
     "text": [
      "Enter any number 7\n",
      "Enter any number 10\n",
      "Enter any number 7\n"
     ]
    },
    {
     "name": "stdout",
     "output_type": "stream",
     "text": [
      "YES\n"
     ]
    }
   ],
   "source": [
    "N = int(input(\"Enter any number\"))\n",
    "L = int(input(\"Enter any number\"))\n",
    "R = int(input(\"Enter any number\"))\n",
    "\n",
    "print(\"YES\") if (L<=N and R>=N) or (L>=N and R<=N) else print(\"NO\") "
   ]
  },
  {
   "cell_type": "code",
   "execution_count": null,
   "id": "4a2d2888-820f-451f-95e3-dd554c2109bb",
   "metadata": {},
   "outputs": [],
   "source": []
  }
 ],
 "metadata": {
  "kernelspec": {
   "display_name": "Python 3 (ipykernel)",
   "language": "python",
   "name": "python3"
  },
  "language_info": {
   "codemirror_mode": {
    "name": "ipython",
    "version": 3
   },
   "file_extension": ".py",
   "mimetype": "text/x-python",
   "name": "python",
   "nbconvert_exporter": "python",
   "pygments_lexer": "ipython3",
   "version": "3.11.0"
  }
 },
 "nbformat": 4,
 "nbformat_minor": 5
}
