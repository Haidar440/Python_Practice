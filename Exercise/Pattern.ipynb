{
 "cells": [
  {
   "cell_type": "code",
   "execution_count": 7,
   "id": "48ce7860-5676-4129-932d-1ce8019c2cfb",
   "metadata": {},
   "outputs": [
    {
     "name": "stdout",
     "output_type": "stream",
     "text": [
      "* * * * * \n",
      "\n",
      "  * * * * * \n",
      "\n",
      "    * * * * * \n",
      "\n",
      "      * * * * * \n",
      "\n",
      "        * * * * * \n",
      "\n"
     ]
    }
   ],
   "source": [
    "for i in range(0,5):\n",
    "    for j in range(i):\n",
    "        print(\" \",end=\" \")\n",
    "    for k in range(0,5):\n",
    "        print(\"*\",end=\" \")\n",
    "    print(\"\\n\")    "
   ]
  },
  {
   "cell_type": "code",
   "execution_count": 26,
   "id": "73ddb2ae-dddc-4a0c-8f1c-80423a28538d",
   "metadata": {},
   "outputs": [
    {
     "name": "stdin",
     "output_type": "stream",
     "text": [
      " 10\n"
     ]
    },
    {
     "name": "stdout",
     "output_type": "stream",
     "text": [
      "                  * \n",
      "                * * \n",
      "              * * * \n",
      "            * * * * \n",
      "          * * * * * \n",
      "        * * * * * * \n",
      "      * * * * * * * \n",
      "    * * * * * * * * \n",
      "  * * * * * * * * * \n",
      "* * * * * * * * * * \n"
     ]
    }
   ],
   "source": [
    "n = int(input())\n",
    "for i in range(0,n):\n",
    "    for j in range(0,n):\n",
    "        if j>(n-i)-2:\n",
    "            print(\"*\",end=\" \")\n",
    "        else:\n",
    "            print(\" \",end=\" \")\n",
    "    print()\n",
    "            "
   ]
  },
  {
   "cell_type": "code",
   "execution_count": 2,
   "id": "7a1460d2-4e94-4e55-8e32-effd6c016e17",
   "metadata": {},
   "outputs": [
    {
     "name": "stdin",
     "output_type": "stream",
     "text": [
      " 6\n"
     ]
    },
    {
     "name": "stdout",
     "output_type": "stream",
     "text": [
      "* * * * * * \n",
      "* * * * * * \n",
      "* * * * * * \n",
      "* * * * * * \n",
      "* * * * * * \n",
      "* * * * * * \n"
     ]
    }
   ],
   "source": [
    "n = int(input())\n",
    "\n",
    "for i in range(0,n):\n",
    "    for j in range(0,n):\n",
    "        print(\"* \",end=\"\")\n",
    "    print()"
   ]
  },
  {
   "cell_type": "code",
   "execution_count": 11,
   "id": "3f649c81-3f3e-45e6-9997-539215f9c8d6",
   "metadata": {},
   "outputs": [
    {
     "name": "stdin",
     "output_type": "stream",
     "text": [
      " 4\n"
     ]
    },
    {
     "name": "stdout",
     "output_type": "stream",
     "text": [
      "* * * * \n",
      "*     * \n",
      "*     * \n",
      "* * * * \n"
     ]
    }
   ],
   "source": [
    "n = int(input())\n",
    "\n",
    "for i in range(0,n):\n",
    "    for j in range(0,n):\n",
    "        if i==0 or i==(n-1) or j==0 or j==n-1:\n",
    "            print(\"*\",end=\" \")\n",
    "        else:\n",
    "            print(\" \",end=\" \")\n",
    "    print()    "
   ]
  },
  {
   "cell_type": "code",
   "execution_count": 10,
   "id": "c86ce0d4-1354-4a40-9854-9d4273425ca5",
   "metadata": {},
   "outputs": [
    {
     "name": "stdin",
     "output_type": "stream",
     "text": [
      "row 8\n",
      "Columns 8\n"
     ]
    },
    {
     "name": "stdout",
     "output_type": "stream",
     "text": [
      "* * * * * * * * \n",
      "* * * * * * * * \n",
      "* * * * * * * * \n",
      "* * * * * * * * \n",
      "* * * * * * * * \n",
      "* * * * * * * * \n",
      "* * * * * * * * \n",
      "* * * * * * * * \n"
     ]
    }
   ],
   "source": [
    "row = int(input(\"row\"))\n",
    "columns = int(input(\"Columns\"))\n",
    "\n",
    "for i in range(0,row):\n",
    "    for j in range(0,columns):\n",
    "        print(\"* \",end=\"\")\n",
    "    print()\n"
   ]
  }
 ],
 "metadata": {
  "kernelspec": {
   "display_name": "Python 3 (ipykernel)",
   "language": "python",
   "name": "python3"
  },
  "language_info": {
   "codemirror_mode": {
    "name": "ipython",
    "version": 3
   },
   "file_extension": ".py",
   "mimetype": "text/x-python",
   "name": "python",
   "nbconvert_exporter": "python",
   "pygments_lexer": "ipython3",
   "version": "3.11.0"
  }
 },
 "nbformat": 4,
 "nbformat_minor": 5
}
