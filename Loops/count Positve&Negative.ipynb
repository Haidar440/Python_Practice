{
 "cells": [
  {
   "cell_type": "code",
   "execution_count": null,
   "id": "d305ebed-eb9a-41d2-89c0-943913565083",
   "metadata": {},
   "outputs": [],
   "source": [
    "n = int(input(\"Enter any number\"))\n",
    "postive_count=0\n",
    "negative_count = 0\n",
    "for i in range(1,n+1):\n",
    "    i = int(input())\n",
    "    if i>=0:\n",
    "        postive_count+=1\n",
    "    else:\n",
    "        negative_count+=1\n",
    "\n",
    "print(postive_count)\n",
    "print(negative_count)\n",
    "        "
   ]
  }
 ],
 "metadata": {
  "kernelspec": {
   "display_name": "Python 3 (ipykernel)",
   "language": "python",
   "name": "python3"
  },
  "language_info": {
   "codemirror_mode": {
    "name": "ipython",
    "version": 3
   },
   "file_extension": ".py",
   "mimetype": "text/x-python",
   "name": "python",
   "nbconvert_exporter": "python",
   "pygments_lexer": "ipython3",
   "version": "3.11.0"
  }
 },
 "nbformat": 4,
 "nbformat_minor": 5
}
