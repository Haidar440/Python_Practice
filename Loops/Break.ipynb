{
 "cells": [
  {
   "cell_type": "code",
   "execution_count": 1,
   "id": "c7101dc0-7f4d-45e1-8cc2-341750d7d872",
   "metadata": {},
   "outputs": [
    {
     "name": "stdout",
     "output_type": "stream",
     "text": [
      "1\n",
      "3\n",
      "5\n",
      "7\n",
      "9\n",
      "11\n",
      "13\n",
      "15\n",
      "17\n",
      "19\n",
      "21\n",
      "23\n",
      "25\n",
      "27\n",
      "29\n",
      "31\n",
      "33\n",
      "35\n",
      "37\n",
      "39\n",
      "41\n",
      "43\n",
      "45\n",
      "47\n",
      "49\n"
     ]
    }
   ],
   "source": [
    " for x in range(1,50,2):\n",
    "     print(x)"
   ]
  },
  {
   "cell_type": "code",
   "execution_count": 2,
   "id": "06a032f9-3616-4a16-8a2d-77e886fb6397",
   "metadata": {},
   "outputs": [
    {
     "name": "stdout",
     "output_type": "stream",
     "text": [
      "1\n",
      "3\n",
      "5\n",
      "7\n",
      "9\n",
      "11\n",
      "13\n",
      "15\n",
      "17\n",
      "19\n",
      "21\n",
      "23\n",
      "25\n",
      "27\n",
      "29\n",
      "31\n",
      "33\n",
      "35\n",
      "37\n",
      "39\n",
      "41\n",
      "43\n",
      "45\n",
      "47\n",
      "49\n"
     ]
    }
   ],
   "source": [
    "for i in range(50):\n",
    "    if i%2!=0: print(i)"
   ]
  },
  {
   "cell_type": "code",
   "execution_count": 3,
   "id": "b4e628ce-52a3-4409-9aef-fcb253b43e06",
   "metadata": {},
   "outputs": [
    {
     "name": "stdout",
     "output_type": "stream",
     "text": [
      "1 2 3 loop Break\n"
     ]
    }
   ],
   "source": [
    "for i in range(1,6):\n",
    "    if(i==4):\n",
    "        print(\"loop Break\")\n",
    "        break\n",
    "    print(i,end=\" \")    "
   ]
  },
  {
   "cell_type": "code",
   "execution_count": 4,
   "id": "ed2813eb-8727-48bd-b928-02ca688d6384",
   "metadata": {},
   "outputs": [
    {
     "name": "stdout",
     "output_type": "stream",
     "text": [
      "1 1 Loop Breaks\n",
      "\n",
      "2 2 Loop Breaks\n",
      "\n",
      "3 3 Loop Breaks\n",
      "\n",
      "4 4 Loop Breaks\n",
      "\n",
      "5 5 Loop Breaks\n",
      "\n"
     ]
    }
   ],
   "source": [
    "for i in range(1,6):\n",
    "    for j in range(1,5):\n",
    "        if j==3:\n",
    "            print(\"Loop Breaks\")\n",
    "            break\n",
    "        print(i, end=\" \")\n",
    "    print()    \n"
   ]
  },
  {
   "cell_type": "code",
   "execution_count": 7,
   "id": "7ce99228-d0ec-496e-af40-6b7445b1c242",
   "metadata": {},
   "outputs": [
    {
     "name": "stdout",
     "output_type": "stream",
     "text": [
      "1 1 1 \n",
      "2 2 2 \n",
      "Loop breaks\n"
     ]
    }
   ],
   "source": [
    "for i in range(1,6):\n",
    "    if(i==3):\n",
    "        print(\"Loop breaks\")\n",
    "        break\n",
    "    for j in range(1,4):\n",
    "        print(i,end=\" \")\n",
    "    print()   "
   ]
  },
  {
   "cell_type": "code",
   "execution_count": 14,
   "id": "f5de031e-0bc4-49de-a78c-51ee2b6a5f07",
   "metadata": {},
   "outputs": [
    {
     "name": "stdin",
     "output_type": "stream",
     "text": [
      "Enter student Type MGSDS\n",
      "Tution Fee 12000\n",
      "Bus Fee 25000\n",
      "Hostel Fee 15000\n"
     ]
    },
    {
     "name": "stdout",
     "output_type": "stream",
     "text": [
      "55500.00\n"
     ]
    }
   ],
   "source": [
    "student_type = input(\"Enter student Type\")\n",
    "tf = int(input(\"Tution Fee\"))\n",
    "bf = int(input(\"Bus Fee\"))\n",
    "hf = int(input(\"Hostel Fee\"))\n",
    "\n",
    "if student_type.upper() == \"MSDS\":\n",
    "    total_fee = tf + bf\n",
    "elif student_type.upper() == \"MSH\":\n",
    "    total_fee = tf + hf\n",
    "elif student_type.upper() == \"MGSDS\":\n",
    "    total_fee = 1.5 * tf + bf\n",
    "elif student_type.upper() == \"MGSH\":\n",
    "    total_fee = 1.5 * tf + hf\n",
    "else:\n",
    "    print(\"Enter a Invalid input\")\n",
    "print(\"%.2f\" % total_fee)\n",
    "    "
   ]
  },
  {
   "cell_type": "code",
   "execution_count": 19,
   "id": "6f471a09-2f23-4da9-8f92-88a50770d304",
   "metadata": {},
   "outputs": [
    {
     "name": "stdin",
     "output_type": "stream",
     "text": [
      "Enter door direction Rear\n",
      "Enter the rail number 2\n"
     ]
    },
    {
     "name": "stdout",
     "output_type": "stream",
     "text": [
      "LEFT\n"
     ]
    }
   ],
   "source": [
    "door = input(\"Enter door direction\")\n",
    "rail = int(input(\"Enter the rail number\"))\n",
    "\n",
    "if door.upper() == \"FRONT\":\n",
    "    if rail == 1:\n",
    "        print(\"LEFT\")\n",
    "    elif rail==2:\n",
    "        print(\"RIGHT\")\n",
    "    else:\n",
    "        print(\"Enter only 1 and 2 input\")\n",
    "elif door.upper() == \"REAR\":\n",
    "    if rail ==1:\n",
    "        print(\"RIGHT\")\n",
    "    elif rail==2:\n",
    "        print(\"LEFT\")\n",
    "    else:\n",
    "        print(\"Enter only 1 and 2 rail input\")\n",
    "        "
   ]
  }
 ],
 "metadata": {
  "kernelspec": {
   "display_name": "Python 3 (ipykernel)",
   "language": "python",
   "name": "python3"
  },
  "language_info": {
   "codemirror_mode": {
    "name": "ipython",
    "version": 3
   },
   "file_extension": ".py",
   "mimetype": "text/x-python",
   "name": "python",
   "nbconvert_exporter": "python",
   "pygments_lexer": "ipython3",
   "version": "3.11.0"
  }
 },
 "nbformat": 4,
 "nbformat_minor": 5
}
