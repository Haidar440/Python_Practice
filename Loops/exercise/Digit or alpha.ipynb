{
 "cells": [
  {
   "cell_type": "markdown",
   "id": "4fa3cefb-6a03-48ea-a31f-a5666f35ff2c",
   "metadata": {},
   "source": [
    "# Write a Program to find no. of Character and Digits in a String"
   ]
  },
  {
   "cell_type": "code",
   "execution_count": 6,
   "id": "9cfff7c6-929b-4c7a-ae83-b331897449f4",
   "metadata": {},
   "outputs": [
    {
     "name": "stdin",
     "output_type": "stream",
     "text": [
      " 12dd\n"
     ]
    },
    {
     "name": "stdout",
     "output_type": "stream",
     "text": [
      "Digit: 2\n",
      "Alphabet: 2\n"
     ]
    }
   ],
   "source": [
    "x = input()\n",
    "digit = 0\n",
    "alphabet = 0\n",
    "for i in x:\n",
    "    if i.isdigit():\n",
    "        digit+=1\n",
    "    elif i.isalpha():\n",
    "        alphabet+=1\n",
    "print(\"Digit:\",digit)\n",
    "print(\"Alphabet:\",alphabet)"
   ]
  },
  {
   "cell_type": "code",
   "execution_count": null,
   "id": "08958194-2f67-4a74-a3ee-00d376a6f170",
   "metadata": {},
   "outputs": [],
   "source": []
  }
 ],
 "metadata": {
  "kernelspec": {
   "display_name": "Python 3 (ipykernel)",
   "language": "python",
   "name": "python3"
  },
  "language_info": {
   "codemirror_mode": {
    "name": "ipython",
    "version": 3
   },
   "file_extension": ".py",
   "mimetype": "text/x-python",
   "name": "python",
   "nbconvert_exporter": "python",
   "pygments_lexer": "ipython3",
   "version": "3.11.0"
  }
 },
 "nbformat": 4,
 "nbformat_minor": 5
}
