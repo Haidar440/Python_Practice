{
 "cells": [
  {
   "cell_type": "code",
   "execution_count": 2,
   "id": "979bc811-a197-42e0-b816-a82d235b5839",
   "metadata": {},
   "outputs": [
    {
     "name": "stdin",
     "output_type": "stream",
     "text": [
      "Minimun 5\n",
      "Maxmimum 10\n"
     ]
    },
    {
     "name": "stdout",
     "output_type": "stream",
     "text": [
      "45\n"
     ]
    }
   ],
   "source": [
    "min_1 = int(input(\"Minimun\"))\n",
    "max_1 = int(input(\"Maxmimum\"))\n",
    "total = 0\n",
    "while min_1!=max_1+1:\n",
    "    total = min_1 + total\n",
    "    min_1+=1\n",
    "\n",
    "print(total)\n",
    "    \n",
    "    "
   ]
  },
  {
   "cell_type": "code",
   "execution_count": null,
   "id": "35ac9fc4-c431-4ec1-a60b-6e70f1a5847f",
   "metadata": {},
   "outputs": [],
   "source": [
    "min_1 = int(input(\"Minimun\"))\n",
    "max_1 = int(input(\"Maxmimum\"))\n",
    "total_even = 0\n",
    "total_odd  = 0\n",
    "while min_1>max_1:\n",
    "    "
   ]
  },
  {
   "cell_type": "code",
   "execution_count": 4,
   "id": "a5e17134-2cd9-4a23-b546-79c6811ef45e",
   "metadata": {},
   "outputs": [
    {
     "name": "stdin",
     "output_type": "stream",
     "text": [
      "Enter any number 4\n",
      " 0\n",
      " -9\n",
      " -8\n",
      " -7\n"
     ]
    },
    {
     "name": "stdout",
     "output_type": "stream",
     "text": [
      "1\n",
      "3\n"
     ]
    }
   ],
   "source": []
  }
 ],
 "metadata": {
  "kernelspec": {
   "display_name": "Python 3 (ipykernel)",
   "language": "python",
   "name": "python3"
  },
  "language_info": {
   "codemirror_mode": {
    "name": "ipython",
    "version": 3
   },
   "file_extension": ".py",
   "mimetype": "text/x-python",
   "name": "python",
   "nbconvert_exporter": "python",
   "pygments_lexer": "ipython3",
   "version": "3.11.0"
  }
 },
 "nbformat": 4,
 "nbformat_minor": 5
}
