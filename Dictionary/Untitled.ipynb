{
 "cells": [
  {
   "cell_type": "code",
   "execution_count": 1,
   "id": "66a652a1-8447-4604-ba4e-4e2127eba809",
   "metadata": {},
   "outputs": [
    {
     "name": "stdout",
     "output_type": "stream",
     "text": [
      "{1: 'Focus', 2: 'Academy', 3: 'for', 4: 'Career', 5: 'Enhancement'}\n"
     ]
    }
   ],
   "source": [
    "dic = {1:\"Focus\",2:\"Academy\",3:\"for\",4:\"Career\",5:\"Enhancement\"}\n",
    "print(dic)"
   ]
  },
  {
   "cell_type": "code",
   "execution_count": 2,
   "id": "46ad69f6-4343-46b7-83c1-48861e012c64",
   "metadata": {},
   "outputs": [
    {
     "name": "stdout",
     "output_type": "stream",
     "text": [
      "{1: [2, 4, 50], 'NAME': 'FACE', 4: [5, 7]}\n"
     ]
    }
   ],
   "source": [
    "dic = dict({1:[2,4,50],\"NAME\":\"FACE\",4:[5,7]})\n",
    "print(dic)"
   ]
  },
  {
   "cell_type": "code",
   "execution_count": 4,
   "id": "a9ef4484-db58-4150-8602-24d2daaef086",
   "metadata": {},
   "outputs": [
    {
     "name": "stdout",
     "output_type": "stream",
     "text": [
      "{0: 'Apple', 1: 'Hard', 3: 'Work'}\n",
      "{0: 'Apple', 1: 'Hard', 3: 'Work', 'new_set': (1, 2, 3)}\n",
      "{0: 'Google', 1: 'Hard', 3: 'Work', 'new_set': (1, 2, 3)}\n"
     ]
    }
   ],
   "source": [
    "dic = {}\n",
    "dic[0] = \"Apple\"\n",
    "dic[1] = \"Hard\"\n",
    "dic[3] = \"Work\"\n",
    "print(dic)\n",
    "dic[\"new_set\"] = 1,2,3\n",
    "print(dic)\n",
    "dic[0] = \"Google\"\n",
    "print(dic)"
   ]
  },
  {
   "cell_type": "code",
   "execution_count": 6,
   "id": "ec2e89de-0872-45b6-82c3-3021ee844a24",
   "metadata": {},
   "outputs": [
    {
     "name": "stdout",
     "output_type": "stream",
     "text": [
      "(1, 2, 3)\n"
     ]
    }
   ],
   "source": [
    "print(dic[\"new_set\"])"
   ]
  },
  {
   "cell_type": "code",
   "execution_count": 9,
   "id": "62fa9547-1d05-4430-96ba-175f34eb6fc5",
   "metadata": {},
   "outputs": [
    {
     "name": "stdout",
     "output_type": "stream",
     "text": [
      "Hard\n"
     ]
    }
   ],
   "source": [
    "dic.get('new_set')\n",
    "print(dic.get(1))"
   ]
  },
  {
   "cell_type": "code",
   "execution_count": 6,
   "id": "7808f8b4-f44e-430d-a5da-11a2ea3cc254",
   "metadata": {},
   "outputs": [
    {
     "name": "stdout",
     "output_type": "stream",
     "text": [
      "{'a': 10, 'b': 20, 'c': 30}\n"
     ]
    }
   ],
   "source": [
    "original = {'a':1,'b':2,'c':3}\n",
    "tranform = {k:v*10 for k,v in original.items()}\n",
    "print(tranform)"
   ]
  },
  {
   "cell_type": "code",
   "execution_count": 12,
   "id": "87060dfe-7ca8-47f9-8618-e72294e039af",
   "metadata": {},
   "outputs": [
    {
     "name": "stdout",
     "output_type": "stream",
     "text": [
      "{1: {'sqaure': 1, 'cube': 1}, 2: {'sqaure': 4, 'cube': 8}, 3: {'sqaure': 9, 'cube': 27}, 4: {'sqaure': 16, 'cube': 64}}\n"
     ]
    },
    {
     "data": {
      "text/plain": [
       "4"
      ]
     },
     "execution_count": 12,
     "metadata": {},
     "output_type": "execute_result"
    }
   ],
   "source": [
    "number = [1,2,3,4]\n",
    "nested_dict = {x:{'sqaure':x**2,'cube':x**3} for x in number}\n",
    "print(nested_dict)\n",
    "len(nested_dict)"
   ]
  },
  {
   "cell_type": "code",
   "execution_count": 14,
   "id": "1238fb32-fa76-4066-9481-e3295cfed119",
   "metadata": {},
   "outputs": [
    {
     "name": "stdout",
     "output_type": "stream",
     "text": [
      "{'a': 1, 'c': 3}\n"
     ]
    }
   ],
   "source": [
    "keys = ['a','b','c','d']\n",
    "value = [1,2,3,4]\n",
    "filered_dict = {keys[i]:value[i] for i in range(len(keys)) if i%2==0}\n",
    "print(filered_dict)"
   ]
  },
  {
   "cell_type": "code",
   "execution_count": 16,
   "id": "8511167b-e87a-405d-96af-f75e3f1ccd3b",
   "metadata": {},
   "outputs": [
    {
     "name": "stdout",
     "output_type": "stream",
     "text": [
      "{'a': 1, 'b': 2, 'c': 3}\n"
     ]
    }
   ],
   "source": [
    "tuple1 = [('a',1),('b',2),('c',3)]\n",
    "my_dict = {key:value for key,value in tuple1}\n",
    "print(my_dict)"
   ]
  },
  {
   "cell_type": "code",
   "execution_count": 23,
   "id": "5ef0a3ca-d37f-4042-99a0-1f6176bcbd8a",
   "metadata": {},
   "outputs": [
    {
     "data": {
      "text/plain": [
       "{'a': 1, 'b': 2, 'c': 3}"
      ]
     },
     "execution_count": 23,
     "metadata": {},
     "output_type": "execute_result"
    }
   ],
   "source": [
    "keys = ['a','b','c']\n",
    "values = [1,2,3,4]\n",
    "my_dict = {k:values[i] if i < len(values) else 0 for i,k,in enumerate(keys)}\n",
    "my_dict"
   ]
  },
  {
   "cell_type": "code",
   "execution_count": 25,
   "id": "5b8aca29-d1bd-4513-8036-af9d78897e99",
   "metadata": {},
   "outputs": [
    {
     "data": {
      "text/plain": [
       "[(0, 1), (1, 2), (2, 3), (3, 4)]"
      ]
     },
     "execution_count": 25,
     "metadata": {},
     "output_type": "execute_result"
    }
   ],
   "source": [
    "[(0, 'a'), (1, 'b'), (2, 'c'), (3, 'd')]\n",
    "list(enumerate(values))"
   ]
  }
 ],
 "metadata": {
  "kernelspec": {
   "display_name": "Python 3 (ipykernel)",
   "language": "python",
   "name": "python3"
  },
  "language_info": {
   "codemirror_mode": {
    "name": "ipython",
    "version": 3
   },
   "file_extension": ".py",
   "mimetype": "text/x-python",
   "name": "python",
   "nbconvert_exporter": "python",
   "pygments_lexer": "ipython3",
   "version": "3.11.0"
  }
 },
 "nbformat": 4,
 "nbformat_minor": 5
}
