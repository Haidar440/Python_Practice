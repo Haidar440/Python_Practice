{
 "cells": [
  {
   "cell_type": "code",
   "execution_count": 10,
   "id": "aa4f5b4c-428b-42e5-912b-c51c51e31856",
   "metadata": {},
   "outputs": [
    {
     "name": "stdin",
     "output_type": "stream",
     "text": [
      " Haidar\n"
     ]
    },
    {
     "name": "stdout",
     "output_type": "stream",
     "text": [
      "\n",
      "H\n",
      "aH\n",
      "iaH\n",
      "diaH\n",
      "adiaH\n",
      "radiaH\n",
      "Not Palindrome Number\n"
     ]
    }
   ],
   "source": [
    "string = input()\n",
    "rev_text = \"\"\n",
    "\n",
    "for i in string:\n",
    "    # print(i)\n",
    "    print(rev_text)\n",
    "    rev_text =i + rev_text\n",
    "    \n",
    "\n",
    "print(rev_text)\n",
    "if string == rev_text:\n",
    "    print(\"Palindrome number\")\n",
    "else:\n",
    "    print(\"Not Palindrome Number\")"
   ]
  }
 ],
 "metadata": {
  "kernelspec": {
   "display_name": "Python 3 (ipykernel)",
   "language": "python",
   "name": "python3"
  },
  "language_info": {
   "codemirror_mode": {
    "name": "ipython",
    "version": 3
   },
   "file_extension": ".py",
   "mimetype": "text/x-python",
   "name": "python",
   "nbconvert_exporter": "python",
   "pygments_lexer": "ipython3",
   "version": "3.11.0"
  }
 },
 "nbformat": 4,
 "nbformat_minor": 5
}
